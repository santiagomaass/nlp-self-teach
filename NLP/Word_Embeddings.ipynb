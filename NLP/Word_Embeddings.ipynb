{
  "nbformat": 4,
  "nbformat_minor": 0,
  "metadata": {
    "colab": {
      "provenance": []
    },
    "kernelspec": {
      "display_name": "Python 3",
      "language": "python",
      "name": "python3"
    },
    "language_info": {
      "codemirror_mode": {
        "name": "ipython",
        "version": 3
      },
      "file_extension": ".py",
      "mimetype": "text/x-python",
      "name": "python",
      "nbconvert_exporter": "python",
      "pygments_lexer": "ipython3",
      "version": "3.6.9"
    }
  },
  "cells": [
    {
      "cell_type": "markdown",
      "metadata": {
        "id": "Ckbt7VPDhBwb"
      },
      "source": [
        "# **Word Embeddings 📚**\n",
        "\n"
      ]
    },
    {
      "cell_type": "markdown",
      "source": [
        "### **Basic Word Context Matrix**"
      ],
      "metadata": {
        "id": "6kR2F8Dw8jx0"
      }
    },
    {
      "cell_type": "markdown",
      "source": [
        "Simple exercise of programming a Word Context Matrix Class that generates the matrix with a specific window size, corpus and tokenizer"
      ],
      "metadata": {
        "id": "T1CZsOIa8FaD"
      }
    },
    {
      "cell_type": "code",
      "source": [
        "import scipy as sp\n",
        "import numpy as np\n",
        "import spacy\n",
        "\n",
        "# basic WordContextMatrix\n",
        "class WordContextMatrix:\n",
        "  def __init__(self, vocab_size, window_size, dataset, tokenizer):\n",
        "    \n",
        "    self.wcm = np.full((vocab_size+1, vocab_size+1), 0) # matrix\n",
        "    self.window_size = window_size # int\n",
        "    self.dataset = dataset # list(string): list of documents\n",
        "    self.tokenizer = tokenizer # tokenizer: string -> list(string)\n",
        "    self.vocab = None # tokens list\n",
        "    self.index = None # dictionary --> token: index in matrix\n",
        "    \n",
        "    \n",
        "  def build_vocab(self):\n",
        "    tokens = np.array([\"[UNK]\"]) # token for words not in vocab\n",
        "    for doc in self.dataset:\n",
        "      doc_tokens = self.tokenizer(doc)\n",
        "      tokens = np.append(tokens, doc_tokens)\n",
        "  \n",
        "    self.vocab = np.unique(tokens)\n",
        "  \n",
        "  def build_matrix(self):\n",
        "    self.index = {} #token: index\n",
        "    for i in range(len(self.vocab)):\n",
        "      self.index[self.vocab[i]] = i\n",
        "\n",
        "    # coocurrences calculus\n",
        "    for doc in self.dataset:\n",
        "      tokenized_doc = self.tokenizer(doc)\n",
        "      # for each token a sum\n",
        "      for i in range(len(tokenized_doc)):\n",
        "        token = tokenized_doc[i] \n",
        "        if not token in self.vocab:\n",
        "          token = \"[UNK]\"\n",
        "        index_token = self.index[token]\n",
        "        # tokens to the left\n",
        "        for j in range(max(0, i - self.window_size), i):\n",
        "          token_left = tokenized_doc[j]\n",
        "          if not token in self.vocab:\n",
        "            token_left = \"[UNK]\"\n",
        "          index_token_left = self.index[token_left]\n",
        "          self.wcm[index_token][index_token_left] += 1 # sum\n",
        "        # tokens to the right\n",
        "        for k in range(i+1, min(len(tokenized_doc), i+1 + self.window_size)):\n",
        "          token_right = tokenized_doc[k]\n",
        "          if not token in self.vocab:\n",
        "            token_right = \"[UNK]\"\n",
        "          index_token_right = self.index[token_right]\n",
        "          self.wcm[index_token][index_token_right] += 1 # sum\n",
        "\n",
        "  # returns matrix as a dictionary(token) = list of coocurrences\n",
        "  def get_matrix(self):\n",
        "    matrix_dic = {}\n",
        "    for token in self.index.keys():\n",
        "      i = self.index[token]\n",
        "      matrix_dic[token] = self.wcm[:, i]\n",
        "    return matrix_dic\n"
      ],
      "metadata": {
        "id": "om8GtjjAEmLT"
      },
      "execution_count": null,
      "outputs": []
    },
    {
      "cell_type": "code",
      "source": [
        "!python -m spacy download es_core_news_sm\n",
        "import pandas as pd"
      ],
      "metadata": {
        "colab": {
          "base_uri": "https://localhost:8080/"
        },
        "id": "Pbt57xOnpcul",
        "outputId": "bf3a48b6-4b28-4a2b-ae88-e51fd2cead91"
      },
      "execution_count": null,
      "outputs": [
        {
          "output_type": "stream",
          "name": "stdout",
          "text": [
            "2023-05-18 22:25:41.806813: W tensorflow/compiler/tf2tensorrt/utils/py_utils.cc:38] TF-TRT Warning: Could not find TensorRT\n",
            "Looking in indexes: https://pypi.org/simple, https://us-python.pkg.dev/colab-wheels/public/simple/\n",
            "Collecting es-core-news-sm==3.5.0\n",
            "  Downloading https://github.com/explosion/spacy-models/releases/download/es_core_news_sm-3.5.0/es_core_news_sm-3.5.0-py3-none-any.whl (12.9 MB)\n",
            "\u001b[2K     \u001b[90m━━━━━━━━━━━━━━━━━━━━━━━━━━━━━━━━━━━━━━━━\u001b[0m \u001b[32m12.9/12.9 MB\u001b[0m \u001b[31m29.5 MB/s\u001b[0m eta \u001b[36m0:00:00\u001b[0m\n",
            "\u001b[?25hRequirement already satisfied: spacy<3.6.0,>=3.5.0 in /usr/local/lib/python3.10/dist-packages (from es-core-news-sm==3.5.0) (3.5.2)\n",
            "Requirement already satisfied: spacy-legacy<3.1.0,>=3.0.11 in /usr/local/lib/python3.10/dist-packages (from spacy<3.6.0,>=3.5.0->es-core-news-sm==3.5.0) (3.0.12)\n",
            "Requirement already satisfied: spacy-loggers<2.0.0,>=1.0.0 in /usr/local/lib/python3.10/dist-packages (from spacy<3.6.0,>=3.5.0->es-core-news-sm==3.5.0) (1.0.4)\n",
            "Requirement already satisfied: murmurhash<1.1.0,>=0.28.0 in /usr/local/lib/python3.10/dist-packages (from spacy<3.6.0,>=3.5.0->es-core-news-sm==3.5.0) (1.0.9)\n",
            "Requirement already satisfied: cymem<2.1.0,>=2.0.2 in /usr/local/lib/python3.10/dist-packages (from spacy<3.6.0,>=3.5.0->es-core-news-sm==3.5.0) (2.0.7)\n",
            "Requirement already satisfied: preshed<3.1.0,>=3.0.2 in /usr/local/lib/python3.10/dist-packages (from spacy<3.6.0,>=3.5.0->es-core-news-sm==3.5.0) (3.0.8)\n",
            "Requirement already satisfied: thinc<8.2.0,>=8.1.8 in /usr/local/lib/python3.10/dist-packages (from spacy<3.6.0,>=3.5.0->es-core-news-sm==3.5.0) (8.1.9)\n",
            "Requirement already satisfied: wasabi<1.2.0,>=0.9.1 in /usr/local/lib/python3.10/dist-packages (from spacy<3.6.0,>=3.5.0->es-core-news-sm==3.5.0) (1.1.1)\n",
            "Requirement already satisfied: srsly<3.0.0,>=2.4.3 in /usr/local/lib/python3.10/dist-packages (from spacy<3.6.0,>=3.5.0->es-core-news-sm==3.5.0) (2.4.6)\n",
            "Requirement already satisfied: catalogue<2.1.0,>=2.0.6 in /usr/local/lib/python3.10/dist-packages (from spacy<3.6.0,>=3.5.0->es-core-news-sm==3.5.0) (2.0.8)\n",
            "Requirement already satisfied: typer<0.8.0,>=0.3.0 in /usr/local/lib/python3.10/dist-packages (from spacy<3.6.0,>=3.5.0->es-core-news-sm==3.5.0) (0.7.0)\n",
            "Requirement already satisfied: pathy>=0.10.0 in /usr/local/lib/python3.10/dist-packages (from spacy<3.6.0,>=3.5.0->es-core-news-sm==3.5.0) (0.10.1)\n",
            "Requirement already satisfied: smart-open<7.0.0,>=5.2.1 in /usr/local/lib/python3.10/dist-packages (from spacy<3.6.0,>=3.5.0->es-core-news-sm==3.5.0) (6.3.0)\n",
            "Requirement already satisfied: tqdm<5.0.0,>=4.38.0 in /usr/local/lib/python3.10/dist-packages (from spacy<3.6.0,>=3.5.0->es-core-news-sm==3.5.0) (4.65.0)\n",
            "Requirement already satisfied: numpy>=1.15.0 in /usr/local/lib/python3.10/dist-packages (from spacy<3.6.0,>=3.5.0->es-core-news-sm==3.5.0) (1.22.4)\n",
            "Requirement already satisfied: requests<3.0.0,>=2.13.0 in /usr/local/lib/python3.10/dist-packages (from spacy<3.6.0,>=3.5.0->es-core-news-sm==3.5.0) (2.27.1)\n",
            "Requirement already satisfied: pydantic!=1.8,!=1.8.1,<1.11.0,>=1.7.4 in /usr/local/lib/python3.10/dist-packages (from spacy<3.6.0,>=3.5.0->es-core-news-sm==3.5.0) (1.10.7)\n",
            "Requirement already satisfied: jinja2 in /usr/local/lib/python3.10/dist-packages (from spacy<3.6.0,>=3.5.0->es-core-news-sm==3.5.0) (3.1.2)\n",
            "Requirement already satisfied: setuptools in /usr/local/lib/python3.10/dist-packages (from spacy<3.6.0,>=3.5.0->es-core-news-sm==3.5.0) (67.7.2)\n",
            "Requirement already satisfied: packaging>=20.0 in /usr/local/lib/python3.10/dist-packages (from spacy<3.6.0,>=3.5.0->es-core-news-sm==3.5.0) (23.1)\n",
            "Requirement already satisfied: langcodes<4.0.0,>=3.2.0 in /usr/local/lib/python3.10/dist-packages (from spacy<3.6.0,>=3.5.0->es-core-news-sm==3.5.0) (3.3.0)\n",
            "Requirement already satisfied: typing-extensions>=4.2.0 in /usr/local/lib/python3.10/dist-packages (from pydantic!=1.8,!=1.8.1,<1.11.0,>=1.7.4->spacy<3.6.0,>=3.5.0->es-core-news-sm==3.5.0) (4.5.0)\n",
            "Requirement already satisfied: urllib3<1.27,>=1.21.1 in /usr/local/lib/python3.10/dist-packages (from requests<3.0.0,>=2.13.0->spacy<3.6.0,>=3.5.0->es-core-news-sm==3.5.0) (1.26.15)\n",
            "Requirement already satisfied: certifi>=2017.4.17 in /usr/local/lib/python3.10/dist-packages (from requests<3.0.0,>=2.13.0->spacy<3.6.0,>=3.5.0->es-core-news-sm==3.5.0) (2022.12.7)\n",
            "Requirement already satisfied: charset-normalizer~=2.0.0 in /usr/local/lib/python3.10/dist-packages (from requests<3.0.0,>=2.13.0->spacy<3.6.0,>=3.5.0->es-core-news-sm==3.5.0) (2.0.12)\n",
            "Requirement already satisfied: idna<4,>=2.5 in /usr/local/lib/python3.10/dist-packages (from requests<3.0.0,>=2.13.0->spacy<3.6.0,>=3.5.0->es-core-news-sm==3.5.0) (3.4)\n",
            "Requirement already satisfied: blis<0.8.0,>=0.7.8 in /usr/local/lib/python3.10/dist-packages (from thinc<8.2.0,>=8.1.8->spacy<3.6.0,>=3.5.0->es-core-news-sm==3.5.0) (0.7.9)\n",
            "Requirement already satisfied: confection<1.0.0,>=0.0.1 in /usr/local/lib/python3.10/dist-packages (from thinc<8.2.0,>=8.1.8->spacy<3.6.0,>=3.5.0->es-core-news-sm==3.5.0) (0.0.4)\n",
            "Requirement already satisfied: click<9.0.0,>=7.1.1 in /usr/local/lib/python3.10/dist-packages (from typer<0.8.0,>=0.3.0->spacy<3.6.0,>=3.5.0->es-core-news-sm==3.5.0) (8.1.3)\n",
            "Requirement already satisfied: MarkupSafe>=2.0 in /usr/local/lib/python3.10/dist-packages (from jinja2->spacy<3.6.0,>=3.5.0->es-core-news-sm==3.5.0) (2.1.2)\n",
            "\u001b[38;5;2m✔ Download and installation successful\u001b[0m\n",
            "You can now load the package via spacy.load('es_core_news_sm')\n"
          ]
        }
      ]
    },
    {
      "cell_type": "code",
      "source": [
        "# simple corpus\n",
        "corpus = [\n",
        "  \"I like deep learning.\",\n",
        "  \"I like NLP.\",\n",
        "  \"I enjoy flying.\"\n",
        "]\n",
        "\n",
        "nlp = spacy.load(\"es_core_news_sm\")\n",
        "\n",
        "# tokenization\n",
        "def tokenize_text(text):\n",
        "    doc = nlp(text)\n",
        "    tokens = [token.text for token in doc]\n",
        "    return tokens\n",
        "\n",
        "# simple test \n",
        "WCM = WordContextMatrix(8, 1, corpus, tokenize_text)\n",
        "WCM.build_vocab()\n",
        "WCM.build_matrix()\n",
        "\n",
        "print(f\"Dataset: {corpus}\")\n",
        "print(\"Result: \")\n",
        "\n",
        "# print with pandas\n",
        "df = pd.DataFrame(WCM.get_matrix(), index = WCM.index, columns = WCM.index)\n",
        "print(df)\n",
        "\n"
      ],
      "metadata": {
        "colab": {
          "base_uri": "https://localhost:8080/"
        },
        "id": "EiH9n49WnirD",
        "outputId": "14fcf569-21d8-4ea8-e720-c526aa9e8a81"
      },
      "execution_count": null,
      "outputs": [
        {
          "output_type": "stream",
          "name": "stdout",
          "text": [
            "Dataset: ['I like deep learning.', 'I like NLP.', 'I enjoy flying.']\n",
            "Result: \n",
            "          .  I  NLP  [UNK]  deep  enjoy  flying  learning  like\n",
            ".         0  0    1      0     0      0       1         1     0\n",
            "I         0  0    0      0     0      1       0         0     2\n",
            "NLP       1  0    0      0     0      0       0         0     1\n",
            "[UNK]     0  0    0      0     0      0       0         0     0\n",
            "deep      0  0    0      0     0      0       0         1     1\n",
            "enjoy     0  1    0      0     0      0       1         0     0\n",
            "flying    1  0    0      0     0      1       0         0     0\n",
            "learning  1  0    0      0     1      0       0         0     0\n",
            "like      0  2    1      0     1      0       0         0     0\n"
          ]
        }
      ]
    },
    {
      "cell_type": "markdown",
      "metadata": {
        "id": "Ol82nJ0FnmcP"
      },
      "source": [
        "### **Word2Vec and Gensim FastText**"
      ]
    },
    {
      "cell_type": "markdown",
      "metadata": {
        "id": "OgmeSFqKLpFL"
      },
      "source": [
        "The goal is to compare the embeddings of the two different models: Word2Vec and [FastText](https://radimrehurek.com/gensim/models/fasttext.html) trained with the same corpus of Simpson's dialogue "
      ]
    },
    {
      "cell_type": "code",
      "metadata": {
        "id": "ecCvnryeQiG7",
        "colab": {
          "base_uri": "https://localhost:8080/"
        },
        "outputId": "4c650fa9-a340-4b1b-e608-76801dbeff9b"
      },
      "source": [
        "import re  \n",
        "import pandas as pd \n",
        "from time import time  \n",
        "from collections import defaultdict \n",
        "import string \n",
        "import multiprocessing\n",
        "import os\n",
        "import gensim\n",
        "import sklearn\n",
        "from sklearn import linear_model\n",
        "from collections import Counter\n",
        "import numpy as np\n",
        "from sklearn.metrics import accuracy_score, precision_score, recall_score, f1_score, roc_auc_score, confusion_matrix, cohen_kappa_score, classification_report\n",
        "import nltk\n",
        "from nltk.corpus import stopwords as stws\n",
        "nltk.download('stopwords')\n",
        "\n",
        "# word2vec\n",
        "from gensim.models import Word2Vec, KeyedVectors, FastText\n",
        "from gensim.models.phrases import Phrases, Phraser, ENGLISH_CONNECTOR_WORDS\n",
        "from sklearn.model_selection import train_test_split\n",
        "from sklearn.linear_model import LogisticRegression\n",
        "import logging\n",
        "\n",
        "logging.basicConfig(format='%(asctime)s : %(levelname)s : %(message)s', level=logging.INFO)\n",
        "logger = logging.getLogger(__name__)"
      ],
      "execution_count": null,
      "outputs": [
        {
          "output_type": "stream",
          "name": "stderr",
          "text": [
            "[nltk_data] Downloading package stopwords to /root/nltk_data...\n",
            "[nltk_data]   Package stopwords is already up-to-date!\n"
          ]
        }
      ]
    },
    {
      "cell_type": "code",
      "metadata": {
        "id": "eY3kmg4onnsu"
      },
      "source": [
        "data_file = \"dialogue-lines-of-the-simpsons.zip\"\n",
        "df = pd.read_csv(data_file)\n",
        "stopwords = pd.read_csv(\n",
        "    'https://raw.githubusercontent.com/Alir3z4/stop-words/master/english.txt'\n",
        ").values\n",
        "stopwords = Counter(stopwords.flatten().tolist())\n",
        "df = df.dropna().reset_index(drop=True) # Quitar filas vacias"
      ],
      "execution_count": null,
      "outputs": []
    },
    {
      "cell_type": "markdown",
      "metadata": {
        "id": "MWw2fXFRXe5Y"
      },
      "source": [
        "**Exploration**:"
      ]
    },
    {
      "cell_type": "code",
      "metadata": {
        "id": "Bvwplz7yTNcr",
        "colab": {
          "base_uri": "https://localhost:8080/",
          "height": 426
        },
        "outputId": "85f28c71-9f02-40a4-c3d0-bc0242c5422b"
      },
      "source": [
        "df.head(12)"
      ],
      "execution_count": null,
      "outputs": [
        {
          "output_type": "execute_result",
          "data": {
            "text/plain": [
              "         raw_character_text                                       spoken_words\n",
              "0               Miss Hoover  No, actually, it was a little of both. Sometim...\n",
              "1              Lisa Simpson                             Where's Mr. Bergstrom?\n",
              "2               Miss Hoover  I don't know. Although I'd sure like to talk t...\n",
              "3              Lisa Simpson                         That life is worth living.\n",
              "4   Edna Krabappel-Flanders  The polls will be open from now until the end ...\n",
              "5             Martin Prince        I don't think there's anything left to say.\n",
              "6   Edna Krabappel-Flanders                                              Bart?\n",
              "7              Bart Simpson                     Victory party under the slide!\n",
              "8              Lisa Simpson                      Mr. Bergstrom! Mr. Bergstrom!\n",
              "9                  Landlady  Hey, hey, he Moved out this morning. He must h...\n",
              "10             Lisa Simpson                Do you know where I could find him?\n",
              "11                 Landlady  I think he's taking the next train to Capital ..."
            ],
            "text/html": [
              "\n",
              "  <div id=\"df-a4d10f9a-49f0-4433-b482-df945aad92d5\">\n",
              "    <div class=\"colab-df-container\">\n",
              "      <div>\n",
              "<style scoped>\n",
              "    .dataframe tbody tr th:only-of-type {\n",
              "        vertical-align: middle;\n",
              "    }\n",
              "\n",
              "    .dataframe tbody tr th {\n",
              "        vertical-align: top;\n",
              "    }\n",
              "\n",
              "    .dataframe thead th {\n",
              "        text-align: right;\n",
              "    }\n",
              "</style>\n",
              "<table border=\"1\" class=\"dataframe\">\n",
              "  <thead>\n",
              "    <tr style=\"text-align: right;\">\n",
              "      <th></th>\n",
              "      <th>raw_character_text</th>\n",
              "      <th>spoken_words</th>\n",
              "    </tr>\n",
              "  </thead>\n",
              "  <tbody>\n",
              "    <tr>\n",
              "      <th>0</th>\n",
              "      <td>Miss Hoover</td>\n",
              "      <td>No, actually, it was a little of both. Sometim...</td>\n",
              "    </tr>\n",
              "    <tr>\n",
              "      <th>1</th>\n",
              "      <td>Lisa Simpson</td>\n",
              "      <td>Where's Mr. Bergstrom?</td>\n",
              "    </tr>\n",
              "    <tr>\n",
              "      <th>2</th>\n",
              "      <td>Miss Hoover</td>\n",
              "      <td>I don't know. Although I'd sure like to talk t...</td>\n",
              "    </tr>\n",
              "    <tr>\n",
              "      <th>3</th>\n",
              "      <td>Lisa Simpson</td>\n",
              "      <td>That life is worth living.</td>\n",
              "    </tr>\n",
              "    <tr>\n",
              "      <th>4</th>\n",
              "      <td>Edna Krabappel-Flanders</td>\n",
              "      <td>The polls will be open from now until the end ...</td>\n",
              "    </tr>\n",
              "    <tr>\n",
              "      <th>5</th>\n",
              "      <td>Martin Prince</td>\n",
              "      <td>I don't think there's anything left to say.</td>\n",
              "    </tr>\n",
              "    <tr>\n",
              "      <th>6</th>\n",
              "      <td>Edna Krabappel-Flanders</td>\n",
              "      <td>Bart?</td>\n",
              "    </tr>\n",
              "    <tr>\n",
              "      <th>7</th>\n",
              "      <td>Bart Simpson</td>\n",
              "      <td>Victory party under the slide!</td>\n",
              "    </tr>\n",
              "    <tr>\n",
              "      <th>8</th>\n",
              "      <td>Lisa Simpson</td>\n",
              "      <td>Mr. Bergstrom! Mr. Bergstrom!</td>\n",
              "    </tr>\n",
              "    <tr>\n",
              "      <th>9</th>\n",
              "      <td>Landlady</td>\n",
              "      <td>Hey, hey, he Moved out this morning. He must h...</td>\n",
              "    </tr>\n",
              "    <tr>\n",
              "      <th>10</th>\n",
              "      <td>Lisa Simpson</td>\n",
              "      <td>Do you know where I could find him?</td>\n",
              "    </tr>\n",
              "    <tr>\n",
              "      <th>11</th>\n",
              "      <td>Landlady</td>\n",
              "      <td>I think he's taking the next train to Capital ...</td>\n",
              "    </tr>\n",
              "  </tbody>\n",
              "</table>\n",
              "</div>\n",
              "      <button class=\"colab-df-convert\" onclick=\"convertToInteractive('df-a4d10f9a-49f0-4433-b482-df945aad92d5')\"\n",
              "              title=\"Convert this dataframe to an interactive table.\"\n",
              "              style=\"display:none;\">\n",
              "        \n",
              "  <svg xmlns=\"http://www.w3.org/2000/svg\" height=\"24px\"viewBox=\"0 0 24 24\"\n",
              "       width=\"24px\">\n",
              "    <path d=\"M0 0h24v24H0V0z\" fill=\"none\"/>\n",
              "    <path d=\"M18.56 5.44l.94 2.06.94-2.06 2.06-.94-2.06-.94-.94-2.06-.94 2.06-2.06.94zm-11 1L8.5 8.5l.94-2.06 2.06-.94-2.06-.94L8.5 2.5l-.94 2.06-2.06.94zm10 10l.94 2.06.94-2.06 2.06-.94-2.06-.94-.94-2.06-.94 2.06-2.06.94z\"/><path d=\"M17.41 7.96l-1.37-1.37c-.4-.4-.92-.59-1.43-.59-.52 0-1.04.2-1.43.59L10.3 9.45l-7.72 7.72c-.78.78-.78 2.05 0 2.83L4 21.41c.39.39.9.59 1.41.59.51 0 1.02-.2 1.41-.59l7.78-7.78 2.81-2.81c.8-.78.8-2.07 0-2.86zM5.41 20L4 18.59l7.72-7.72 1.47 1.35L5.41 20z\"/>\n",
              "  </svg>\n",
              "      </button>\n",
              "      \n",
              "  <style>\n",
              "    .colab-df-container {\n",
              "      display:flex;\n",
              "      flex-wrap:wrap;\n",
              "      gap: 12px;\n",
              "    }\n",
              "\n",
              "    .colab-df-convert {\n",
              "      background-color: #E8F0FE;\n",
              "      border: none;\n",
              "      border-radius: 50%;\n",
              "      cursor: pointer;\n",
              "      display: none;\n",
              "      fill: #1967D2;\n",
              "      height: 32px;\n",
              "      padding: 0 0 0 0;\n",
              "      width: 32px;\n",
              "    }\n",
              "\n",
              "    .colab-df-convert:hover {\n",
              "      background-color: #E2EBFA;\n",
              "      box-shadow: 0px 1px 2px rgba(60, 64, 67, 0.3), 0px 1px 3px 1px rgba(60, 64, 67, 0.15);\n",
              "      fill: #174EA6;\n",
              "    }\n",
              "\n",
              "    [theme=dark] .colab-df-convert {\n",
              "      background-color: #3B4455;\n",
              "      fill: #D2E3FC;\n",
              "    }\n",
              "\n",
              "    [theme=dark] .colab-df-convert:hover {\n",
              "      background-color: #434B5C;\n",
              "      box-shadow: 0px 1px 3px 1px rgba(0, 0, 0, 0.15);\n",
              "      filter: drop-shadow(0px 1px 2px rgba(0, 0, 0, 0.3));\n",
              "      fill: #FFFFFF;\n",
              "    }\n",
              "  </style>\n",
              "\n",
              "      <script>\n",
              "        const buttonEl =\n",
              "          document.querySelector('#df-a4d10f9a-49f0-4433-b482-df945aad92d5 button.colab-df-convert');\n",
              "        buttonEl.style.display =\n",
              "          google.colab.kernel.accessAllowed ? 'block' : 'none';\n",
              "\n",
              "        async function convertToInteractive(key) {\n",
              "          const element = document.querySelector('#df-a4d10f9a-49f0-4433-b482-df945aad92d5');\n",
              "          const dataTable =\n",
              "            await google.colab.kernel.invokeFunction('convertToInteractive',\n",
              "                                                     [key], {});\n",
              "          if (!dataTable) return;\n",
              "\n",
              "          const docLinkHtml = 'Like what you see? Visit the ' +\n",
              "            '<a target=\"_blank\" href=https://colab.research.google.com/notebooks/data_table.ipynb>data table notebook</a>'\n",
              "            + ' to learn more about interactive tables.';\n",
              "          element.innerHTML = '';\n",
              "          dataTable['output_type'] = 'display_data';\n",
              "          await google.colab.output.renderOutput(dataTable, element);\n",
              "          const docLink = document.createElement('div');\n",
              "          docLink.innerHTML = docLinkHtml;\n",
              "          element.appendChild(docLink);\n",
              "        }\n",
              "      </script>\n",
              "    </div>\n",
              "  </div>\n",
              "  "
            ]
          },
          "metadata": {},
          "execution_count": 22
        }
      ]
    },
    {
      "cell_type": "code",
      "source": [
        "df.describe()"
      ],
      "metadata": {
        "colab": {
          "base_uri": "https://localhost:8080/",
          "height": 175
        },
        "id": "rcBu49V78Z6j",
        "outputId": "470a477c-45b4-42f3-c9df-7ad5155cae76"
      },
      "execution_count": null,
      "outputs": [
        {
          "output_type": "execute_result",
          "data": {
            "text/plain": [
              "       raw_character_text spoken_words\n",
              "count              131853       131853\n",
              "unique               6272       121757\n",
              "top         Homer Simpson          No.\n",
              "freq                27850          304"
            ],
            "text/html": [
              "\n",
              "  <div id=\"df-ef6b50e6-979c-4efb-a008-e1717f5cc5e0\">\n",
              "    <div class=\"colab-df-container\">\n",
              "      <div>\n",
              "<style scoped>\n",
              "    .dataframe tbody tr th:only-of-type {\n",
              "        vertical-align: middle;\n",
              "    }\n",
              "\n",
              "    .dataframe tbody tr th {\n",
              "        vertical-align: top;\n",
              "    }\n",
              "\n",
              "    .dataframe thead th {\n",
              "        text-align: right;\n",
              "    }\n",
              "</style>\n",
              "<table border=\"1\" class=\"dataframe\">\n",
              "  <thead>\n",
              "    <tr style=\"text-align: right;\">\n",
              "      <th></th>\n",
              "      <th>raw_character_text</th>\n",
              "      <th>spoken_words</th>\n",
              "    </tr>\n",
              "  </thead>\n",
              "  <tbody>\n",
              "    <tr>\n",
              "      <th>count</th>\n",
              "      <td>131853</td>\n",
              "      <td>131853</td>\n",
              "    </tr>\n",
              "    <tr>\n",
              "      <th>unique</th>\n",
              "      <td>6272</td>\n",
              "      <td>121757</td>\n",
              "    </tr>\n",
              "    <tr>\n",
              "      <th>top</th>\n",
              "      <td>Homer Simpson</td>\n",
              "      <td>No.</td>\n",
              "    </tr>\n",
              "    <tr>\n",
              "      <th>freq</th>\n",
              "      <td>27850</td>\n",
              "      <td>304</td>\n",
              "    </tr>\n",
              "  </tbody>\n",
              "</table>\n",
              "</div>\n",
              "      <button class=\"colab-df-convert\" onclick=\"convertToInteractive('df-ef6b50e6-979c-4efb-a008-e1717f5cc5e0')\"\n",
              "              title=\"Convert this dataframe to an interactive table.\"\n",
              "              style=\"display:none;\">\n",
              "        \n",
              "  <svg xmlns=\"http://www.w3.org/2000/svg\" height=\"24px\"viewBox=\"0 0 24 24\"\n",
              "       width=\"24px\">\n",
              "    <path d=\"M0 0h24v24H0V0z\" fill=\"none\"/>\n",
              "    <path d=\"M18.56 5.44l.94 2.06.94-2.06 2.06-.94-2.06-.94-.94-2.06-.94 2.06-2.06.94zm-11 1L8.5 8.5l.94-2.06 2.06-.94-2.06-.94L8.5 2.5l-.94 2.06-2.06.94zm10 10l.94 2.06.94-2.06 2.06-.94-2.06-.94-.94-2.06-.94 2.06-2.06.94z\"/><path d=\"M17.41 7.96l-1.37-1.37c-.4-.4-.92-.59-1.43-.59-.52 0-1.04.2-1.43.59L10.3 9.45l-7.72 7.72c-.78.78-.78 2.05 0 2.83L4 21.41c.39.39.9.59 1.41.59.51 0 1.02-.2 1.41-.59l7.78-7.78 2.81-2.81c.8-.78.8-2.07 0-2.86zM5.41 20L4 18.59l7.72-7.72 1.47 1.35L5.41 20z\"/>\n",
              "  </svg>\n",
              "      </button>\n",
              "      \n",
              "  <style>\n",
              "    .colab-df-container {\n",
              "      display:flex;\n",
              "      flex-wrap:wrap;\n",
              "      gap: 12px;\n",
              "    }\n",
              "\n",
              "    .colab-df-convert {\n",
              "      background-color: #E8F0FE;\n",
              "      border: none;\n",
              "      border-radius: 50%;\n",
              "      cursor: pointer;\n",
              "      display: none;\n",
              "      fill: #1967D2;\n",
              "      height: 32px;\n",
              "      padding: 0 0 0 0;\n",
              "      width: 32px;\n",
              "    }\n",
              "\n",
              "    .colab-df-convert:hover {\n",
              "      background-color: #E2EBFA;\n",
              "      box-shadow: 0px 1px 2px rgba(60, 64, 67, 0.3), 0px 1px 3px 1px rgba(60, 64, 67, 0.15);\n",
              "      fill: #174EA6;\n",
              "    }\n",
              "\n",
              "    [theme=dark] .colab-df-convert {\n",
              "      background-color: #3B4455;\n",
              "      fill: #D2E3FC;\n",
              "    }\n",
              "\n",
              "    [theme=dark] .colab-df-convert:hover {\n",
              "      background-color: #434B5C;\n",
              "      box-shadow: 0px 1px 3px 1px rgba(0, 0, 0, 0.15);\n",
              "      filter: drop-shadow(0px 1px 2px rgba(0, 0, 0, 0.3));\n",
              "      fill: #FFFFFF;\n",
              "    }\n",
              "  </style>\n",
              "\n",
              "      <script>\n",
              "        const buttonEl =\n",
              "          document.querySelector('#df-ef6b50e6-979c-4efb-a008-e1717f5cc5e0 button.colab-df-convert');\n",
              "        buttonEl.style.display =\n",
              "          google.colab.kernel.accessAllowed ? 'block' : 'none';\n",
              "\n",
              "        async function convertToInteractive(key) {\n",
              "          const element = document.querySelector('#df-ef6b50e6-979c-4efb-a008-e1717f5cc5e0');\n",
              "          const dataTable =\n",
              "            await google.colab.kernel.invokeFunction('convertToInteractive',\n",
              "                                                     [key], {});\n",
              "          if (!dataTable) return;\n",
              "\n",
              "          const docLinkHtml = 'Like what you see? Visit the ' +\n",
              "            '<a target=\"_blank\" href=https://colab.research.google.com/notebooks/data_table.ipynb>data table notebook</a>'\n",
              "            + ' to learn more about interactive tables.';\n",
              "          element.innerHTML = '';\n",
              "          dataTable['output_type'] = 'display_data';\n",
              "          await google.colab.output.renderOutput(dataTable, element);\n",
              "          const docLink = document.createElement('div');\n",
              "          docLink.innerHTML = docLinkHtml;\n",
              "          element.appendChild(docLink);\n",
              "        }\n",
              "      </script>\n",
              "    </div>\n",
              "  </div>\n",
              "  "
            ]
          },
          "metadata": {},
          "execution_count": 23
        }
      ]
    },
    {
      "cell_type": "code",
      "source": [
        "# punctuation cleaning and tokenization\n",
        "punctuation = string.punctuation + \"«»“”‘’…—\"\n",
        "stopwords = stws.words('english')\n",
        "\n",
        "# stopwords preprocess\n",
        "for i in range(len(stopwords)): \n",
        "  stopwords[i] = stopwords[i].translate(str.maketrans(\n",
        "      '', '', punctuation)).lower()\n",
        "\n",
        "stopwords.append(\"im\") \n",
        "print(f\"Lista de stopwords: {stopwords}\")\n",
        "\n",
        "def simple_tokenizer(doc, lower=True):\n",
        "    if lower:\n",
        "      tokenized_doc = doc.translate(str.maketrans(\n",
        "          '', '', punctuation)).lower().split()\n",
        "\n",
        "    else:\n",
        "      tokenized_doc = doc.translate(str.maketrans('', '', punctuation)).split()\n",
        "    tokenized_doc = [\n",
        "        token for token in tokenized_doc if token.lower() not in stopwords\n",
        "    ]\n",
        "    return tokenized_doc\n",
        "\n",
        "cleaned_content = [simple_tokenizer(doc) for doc in df[\"spoken_words\"]]\n",
        "\n",
        "print(f'Original: {df[\"spoken_words\"][0]}')\n",
        "print(f\"After: {cleaned_content[0]}\")"
      ],
      "metadata": {
        "colab": {
          "base_uri": "https://localhost:8080/"
        },
        "id": "fd2bpBZr87cD",
        "outputId": "20db5ad3-dba4-41e2-8465-5f94db5c3b17"
      },
      "execution_count": null,
      "outputs": [
        {
          "output_type": "stream",
          "name": "stdout",
          "text": [
            "Lista de stopwords: ['i', 'me', 'my', 'myself', 'we', 'our', 'ours', 'ourselves', 'you', 'youre', 'youve', 'youll', 'youd', 'your', 'yours', 'yourself', 'yourselves', 'he', 'him', 'his', 'himself', 'she', 'shes', 'her', 'hers', 'herself', 'it', 'its', 'its', 'itself', 'they', 'them', 'their', 'theirs', 'themselves', 'what', 'which', 'who', 'whom', 'this', 'that', 'thatll', 'these', 'those', 'am', 'is', 'are', 'was', 'were', 'be', 'been', 'being', 'have', 'has', 'had', 'having', 'do', 'does', 'did', 'doing', 'a', 'an', 'the', 'and', 'but', 'if', 'or', 'because', 'as', 'until', 'while', 'of', 'at', 'by', 'for', 'with', 'about', 'against', 'between', 'into', 'through', 'during', 'before', 'after', 'above', 'below', 'to', 'from', 'up', 'down', 'in', 'out', 'on', 'off', 'over', 'under', 'again', 'further', 'then', 'once', 'here', 'there', 'when', 'where', 'why', 'how', 'all', 'any', 'both', 'each', 'few', 'more', 'most', 'other', 'some', 'such', 'no', 'nor', 'not', 'only', 'own', 'same', 'so', 'than', 'too', 'very', 's', 't', 'can', 'will', 'just', 'don', 'dont', 'should', 'shouldve', 'now', 'd', 'll', 'm', 'o', 're', 've', 'y', 'ain', 'aren', 'arent', 'couldn', 'couldnt', 'didn', 'didnt', 'doesn', 'doesnt', 'hadn', 'hadnt', 'hasn', 'hasnt', 'haven', 'havent', 'isn', 'isnt', 'ma', 'mightn', 'mightnt', 'mustn', 'mustnt', 'needn', 'neednt', 'shan', 'shant', 'shouldn', 'shouldnt', 'wasn', 'wasnt', 'weren', 'werent', 'won', 'wont', 'wouldn', 'wouldnt', 'im']\n",
            "Original: No, actually, it was a little of both. Sometimes when a disease is in all the magazines and all the news shows, it's only natural that you think you have it.\n",
            "Despues: ['actually', 'little', 'sometimes', 'disease', 'magazines', 'news', 'shows', 'natural', 'think']\n"
          ]
        }
      ]
    },
    {
      "cell_type": "code",
      "source": [
        "length_avg = 0\n",
        "for doc in cleaned_content:\n",
        "  length_avg += len(doc)\n",
        "print(f\"Token average per document: {length_avg/len(cleaned_content)}\")"
      ],
      "metadata": {
        "colab": {
          "base_uri": "https://localhost:8080/"
        },
        "id": "kApMM_4yY1fT",
        "outputId": "59bb514b-f9d1-446f-e07c-47bca96005d8"
      },
      "execution_count": null,
      "outputs": [
        {
          "output_type": "stream",
          "name": "stdout",
          "text": [
            "Promedio de tokens por documento: 5.319598340576248\n"
          ]
        }
      ]
    },
    {
      "cell_type": "code",
      "source": [
        "from nltk import FreqDist\n",
        "\n",
        "all_tokens = []\n",
        "for doc in cleaned_content:\n",
        "  all_tokens += doc\n",
        "fdist1 = FreqDist(all_tokens)\n",
        "\n",
        "print(\"10 most common tokens: \")\n",
        "print(fdist1.most_common(10))\n",
        "\n"
      ],
      "metadata": {
        "colab": {
          "base_uri": "https://localhost:8080/"
        },
        "id": "imxhq8_xegu2",
        "outputId": "45491971-7ee9-415f-c4eb-02deb873089a"
      },
      "execution_count": null,
      "outputs": [
        {
          "output_type": "stream",
          "name": "stdout",
          "text": [
            "10 tokens mas comunes: \n",
            "[('oh', 8122), ('well', 7014), ('like', 5952), ('get', 5213), ('know', 4710), ('one', 4642), ('thats', 4478), ('hey', 4276), ('homer', 4111), ('right', 4024)]\n"
          ]
        }
      ]
    },
    {
      "cell_type": "code",
      "source": [
        "import matplotlib.pyplot as plt\n",
        "\n",
        "word_rank = [range(1, 1+ len(fdist1.most_common()))]\n",
        "word_freq = [pair[1] for pair in fdist1.most_common()]\n",
        "\n",
        "plt.title(\"Word Frequencies in tokenized dialogue-lines-of-the-simpsons.zip\")\n",
        "plt.ylabel(\"Total Number of Occurrences\")\n",
        "plt.xlabel(\"Word Rank\")\n",
        "plt.scatter(\n",
        "    word_rank,\n",
        "    word_freq,\n",
        "    color=\"orange\",\n",
        "    s=1)\n",
        "plt.show()"
      ],
      "metadata": {
        "colab": {
          "base_uri": "https://localhost:8080/",
          "height": 472
        },
        "id": "oj14HGOlkRBy",
        "outputId": "69f58e4e-abb3-4459-b7f1-ed2b695fe9d3"
      },
      "execution_count": null,
      "outputs": [
        {
          "output_type": "display_data",
          "data": {
            "text/plain": [
              "<Figure size 640x480 with 1 Axes>"
            ],
            "image/png": "[encoded data removed]"
          },
          "metadata": {}
        }
      ]
    },
    {
      "cell_type": "code",
      "source": [
        "# Phrases extraction with Gensim\n",
        "phrases = Phrases(cleaned_content, min_count=100, progress_per=5000, connector_words={\"id\",\"im\",\"lets\",\"dont\",\"ive\",\"whats\",\"youve\",\"weve\",\"cant\",\"lets\"}) \n",
        "bigram = Phraser(phrases)\n",
        "sentences = bigram[cleaned_content]"
      ],
      "metadata": {
        "id": "zehNHR7TBHwK"
      },
      "execution_count": null,
      "outputs": []
    },
    {
      "cell_type": "code",
      "source": [
        "res = set()\n",
        "for doc in sentences:\n",
        "  for token in doc:\n",
        "    if \"_\" in token:\n",
        "      res.add(token)\n",
        "\n",
        "print(\"Phrases found:\")\n",
        "print(res)\n",
        "print(\"Total:\")\n",
        "print(len(res))"
      ],
      "metadata": {
        "colab": {
          "base_uri": "https://localhost:8080/"
        },
        "id": "Yja4KiLDBeHQ",
        "outputId": "8a6a7d26-65c4-4f5f-9b1a-231317d79a40"
      },
      "execution_count": null,
      "outputs": [
        {
          "output_type": "stream",
          "name": "stdout",
          "text": [
            "Lista de frases encontradas:\n",
            "{'haw_haw', 'woo_hoo', 'mr_simpson', 'wait_wait', 'whoa_whoa', 'ha_ha', 'mrs_simpson', 'ow_ow', 'blah_blah', 'years_ago', 'ice_cream', 'la_la', 'oh_god', 'looks_like', 'homer_simpson', 'principal_skinner', 'itchy_scratchy', 'sideshow_bob', 'mr_burns', 'thousand_dollars', 'wait_minute', 'heh_heh'}\n",
            "Total:\n",
            "22\n"
          ]
        }
      ]
    },
    {
      "cell_type": "code",
      "source": [
        "# Model definition\n",
        "simpsons_w2v = Word2Vec(min_count=10,\n",
        "                      window=1,\n",
        "                      negative=20, # noise words to be drawn w negative sampling\n",
        "                      sg=0, # cBoW\n",
        "                      workers=multiprocessing.cpu_count())"
      ],
      "metadata": {
        "id": "I9qMVh8aGklc"
      },
      "execution_count": null,
      "outputs": []
    },
    {
      "cell_type": "code",
      "source": [
        "simpsons_w2v.build_vocab(sentences, progress_per=10000)"
      ],
      "metadata": {
        "id": "zI6IwciDKQPZ"
      },
      "execution_count": null,
      "outputs": []
    },
    {
      "cell_type": "code",
      "source": [
        "# training\n",
        "t = time()\n",
        "simpsons_w2v.train(sentences, total_examples=simpsons_w2v.corpus_count, epochs=5, report_delay=10)\n",
        "print('Time to train the model: {} mins'.format(round((time() - t) / 60, 2)))"
      ],
      "metadata": {
        "colab": {
          "base_uri": "https://localhost:8080/"
        },
        "id": "smZyWmKFKgdG",
        "outputId": "c764ba0f-348a-4920-c562-48bc8d5d6a78"
      },
      "execution_count": null,
      "outputs": [
        {
          "output_type": "stream",
          "name": "stdout",
          "text": [
            "Time to train the model: 0.3 mins\n"
          ]
        }
      ]
    },
    {
      "cell_type": "code",
      "source": [
        "simpsons_w2v.init_sims(replace=True)"
      ],
      "metadata": {
        "colab": {
          "base_uri": "https://localhost:8080/"
        },
        "id": "CKelWEtFKqY5",
        "outputId": "da433d00-c925-426d-fcfb-4c3166300e88"
      },
      "execution_count": null,
      "outputs": [
        {
          "output_type": "stream",
          "name": "stderr",
          "text": [
            "<ipython-input-50-0591ccad5a9b>:2: DeprecationWarning: Call to deprecated `init_sims` (Gensim 4.0.0 implemented internal optimizations that make calls to init_sims() unnecessary. init_sims() is now obsoleted and will be completely removed in future versions. See https://github.com/RaRe-Technologies/gensim/wiki/Migrating-from-Gensim-3.x-to-4).\n",
            "  simpsons_w2v.init_sims(replace=True)\n",
            "WARNING:gensim.models.keyedvectors:destructive init_sims(replace=True) deprecated & no longer required for space-efficiency\n"
          ]
        }
      ]
    },
    {
      "cell_type": "code",
      "source": [
        "# FastText definition\n",
        "simpsons_ft = FastText(min_count=10,\n",
        "                      window=1,\n",
        "                      vector_size=200,\n",
        "                      negative=20, # noise words to be drawn w negative sampling\n",
        "                      workers=multiprocessing.cpu_count())"
      ],
      "metadata": {
        "id": "nN5C721cHsGi"
      },
      "execution_count": null,
      "outputs": []
    },
    {
      "cell_type": "code",
      "source": [
        "simpsons_ft.build_vocab(sentences, progress_per=10000)"
      ],
      "metadata": {
        "id": "ZKqzOVEGI3Ak"
      },
      "execution_count": null,
      "outputs": []
    },
    {
      "cell_type": "code",
      "source": [
        "# training\n",
        "t = time()\n",
        "simpsons_ft.train(sentences, total_examples=simpsons_ft.corpus_count, epochs=5, report_delay=10)\n",
        "print('Time to train the model: {} mins'.format(round((time() - t) / 60, 2)))"
      ],
      "metadata": {
        "colab": {
          "base_uri": "https://localhost:8080/"
        },
        "id": "2v8E1AWlI7uT",
        "outputId": "691da75c-9689-4adb-d574-dff9a75993a9"
      },
      "execution_count": null,
      "outputs": [
        {
          "output_type": "stream",
          "name": "stdout",
          "text": [
            "Time to train the model: 0.58 mins\n"
          ]
        }
      ]
    },
    {
      "cell_type": "code",
      "source": [
        "simpsons_ft.init_sims(replace=True)"
      ],
      "metadata": {
        "colab": {
          "base_uri": "https://localhost:8080/"
        },
        "id": "9wEe2QxAI-_s",
        "outputId": "2eeeb294-3e73-460f-ee2b-639d4d206d0b"
      },
      "execution_count": null,
      "outputs": [
        {
          "output_type": "stream",
          "name": "stderr",
          "text": [
            "<ipython-input-54-b6ea9b275edd>:2: DeprecationWarning: Call to deprecated `init_sims` (Gensim 4.0.0 implemented internal optimizations that make calls to init_sims() unnecessary. init_sims() is now obsoleted and will be completely removed in future versions. See https://github.com/RaRe-Technologies/gensim/wiki/Migrating-from-Gensim-3.x-to-4).\n",
            "  simpsons_ft.init_sims(replace=True)\n",
            "WARNING:gensim.models.keyedvectors:destructive init_sims(replace=True) deprecated & no longer required for space-efficiency\n"
          ]
        }
      ]
    },
    {
      "cell_type": "markdown",
      "metadata": {
        "id": "-Lr8U5wOTNcr"
      },
      "source": [
        "**Excercise 2**: Find the most similar words to the following: Lisa, Bart, Homer, Marge. What is the difference between both results? Why does this happen? Now try comparing \"Liisa\" in both models (with a double i). When would you choose one over the other?**(0.5 puntos)**"
      ]
    },
    {
      "cell_type": "markdown",
      "metadata": {
        "id": "yMLyGffVTNcs"
      },
      "source": [
        "**Respuesta**:"
      ]
    },
    {
      "cell_type": "code",
      "metadata": {
        "id": "w6RvJGpbTNcs",
        "colab": {
          "base_uri": "https://localhost:8080/"
        },
        "outputId": "90a859f7-0f08-46b1-a6f3-f72804343b4d"
      },
      "source": [
        "print(\"Palabras mas similares a lisa con word2vec: \")\n",
        "simpsons_w2v.wv.most_similar(positive=[\"lisa\"])"
      ],
      "execution_count": null,
      "outputs": [
        {
          "output_type": "stream",
          "name": "stdout",
          "text": [
            "Palabras mas similares a lisa con word2vec: \n"
          ]
        },
        {
          "output_type": "execute_result",
          "data": {
            "text/plain": [
              "[('bart', 0.9504731297492981),\n",
              " ('marge', 0.8645347356796265),\n",
              " ('abe', 0.8591281771659851),\n",
              " ('maggie', 0.8530220985412598),\n",
              " ('j', 0.8061081171035767),\n",
              " ('honey', 0.7798136472702026),\n",
              " ('grampa', 0.7696352005004883),\n",
              " ('family', 0.7553428411483765),\n",
              " ('eliza', 0.7449787855148315),\n",
              " ('abraham', 0.7419325113296509)]"
            ]
          },
          "metadata": {},
          "execution_count": 39
        }
      ]
    },
    {
      "cell_type": "code",
      "metadata": {
        "colab": {
          "base_uri": "https://localhost:8080/"
        },
        "outputId": "7b452ab1-e612-4ab4-9637-386e056d8583",
        "id": "S3Z6JN7UJeuD"
      },
      "source": [
        "print(\"Palabras mas similares a lisa con fasttext: \")\n",
        "simpsons_ft.wv.most_similar(positive=[\"lisa\"])"
      ],
      "execution_count": null,
      "outputs": [
        {
          "output_type": "stream",
          "name": "stdout",
          "text": [
            "Palabras mas similares a lisa con fasttext: \n"
          ]
        },
        {
          "output_type": "execute_result",
          "data": {
            "text/plain": [
              "[('bart', 0.9722647666931152),\n",
              " ('marge', 0.9203872084617615),\n",
              " ('lisas', 0.9126348495483398),\n",
              " ('lis', 0.9034671187400818),\n",
              " ('maggie', 0.8925299644470215),\n",
              " ('abe', 0.8723599910736084),\n",
              " ('margie', 0.8676388263702393),\n",
              " ('bartdude', 0.8624825477600098),\n",
              " ('bartholomew', 0.8513044118881226),\n",
              " ('j', 0.8432864546775818)]"
            ]
          },
          "metadata": {},
          "execution_count": 40
        }
      ]
    },
    {
      "cell_type": "code",
      "source": [
        "print(\"Palabras mas similares a bart con word2vec: \")\n",
        "simpsons_w2v.wv.most_similar(positive=[\"bart\"])"
      ],
      "metadata": {
        "colab": {
          "base_uri": "https://localhost:8080/"
        },
        "id": "A01cWoQsLx3E",
        "outputId": "57737d7b-5fc7-471e-a7f7-c65f67a3fb03"
      },
      "execution_count": null,
      "outputs": [
        {
          "output_type": "stream",
          "name": "stdout",
          "text": [
            "Palabras mas similares a bart con word2vec: \n"
          ]
        },
        {
          "output_type": "execute_result",
          "data": {
            "text/plain": [
              "[('lisa', 0.9504731893539429),\n",
              " ('abe', 0.8789340257644653),\n",
              " ('marge', 0.8668800592422485),\n",
              " ('maggie', 0.8637741804122925),\n",
              " ('grampa', 0.8222106695175171),\n",
              " ('j', 0.7970658540725708),\n",
              " ('son', 0.7930171489715576),\n",
              " ('honey', 0.7895950675010681),\n",
              " ('milhouse', 0.7872251868247986),\n",
              " ('family', 0.7676609754562378)]"
            ]
          },
          "metadata": {},
          "execution_count": 41
        }
      ]
    },
    {
      "cell_type": "code",
      "source": [
        "print(\"Palabras mas similares a bart con fasttext: \")\n",
        "simpsons_ft.wv.most_similar(positive=[\"bart\"])"
      ],
      "metadata": {
        "colab": {
          "base_uri": "https://localhost:8080/"
        },
        "outputId": "93005fac-5bf2-455e-f5b9-d0a460e5db43",
        "id": "JfrI-2Q3Jjwi"
      },
      "execution_count": null,
      "outputs": [
        {
          "output_type": "stream",
          "name": "stdout",
          "text": [
            "Palabras mas similares a bart con fasttext: \n"
          ]
        },
        {
          "output_type": "execute_result",
          "data": {
            "text/plain": [
              "[('lisa', 0.9722647666931152),\n",
              " ('marge', 0.9281340837478638),\n",
              " ('lisas', 0.9153075814247131),\n",
              " ('lis', 0.9018505811691284),\n",
              " ('maggie', 0.897013783454895),\n",
              " ('bartdude', 0.8931506872177124),\n",
              " ('abe', 0.8890058398246765),\n",
              " ('margie', 0.8839731812477112),\n",
              " ('barf', 0.8686850070953369),\n",
              " ('bartholomew', 0.8664108514785767)]"
            ]
          },
          "metadata": {},
          "execution_count": 42
        }
      ]
    },
    {
      "cell_type": "code",
      "source": [
        "print(\"Palabras mas similares a homer con word2vec: \")\n",
        "simpsons_w2v.wv.most_similar(positive=[\"homer\"])"
      ],
      "metadata": {
        "colab": {
          "base_uri": "https://localhost:8080/"
        },
        "id": "8KTEmFWaL4xe",
        "outputId": "edb2cf78-cf2c-4122-c25b-59136df0b7c7"
      },
      "execution_count": null,
      "outputs": [
        {
          "output_type": "stream",
          "name": "stdout",
          "text": [
            "Palabras mas similares a homer con word2vec: \n"
          ]
        },
        {
          "output_type": "execute_result",
          "data": {
            "text/plain": [
              "[('homie', 0.858966588973999),\n",
              " ('grampa', 0.854986846446991),\n",
              " ('apu', 0.8388792872428894),\n",
              " ('mr_burns', 0.8250542283058167),\n",
              " ('honey', 0.8173046112060547),\n",
              " ('mr_simpson', 0.8169143199920654),\n",
              " ('sweetie', 0.8159830570220947),\n",
              " ('daughter', 0.8114054203033447),\n",
              " ('principal_skinner', 0.8100494146347046),\n",
              " ('son', 0.8009876012802124)]"
            ]
          },
          "metadata": {},
          "execution_count": 43
        }
      ]
    },
    {
      "cell_type": "code",
      "source": [
        "print(\"Palabras mas similares a homer con fasttext: \")\n",
        "simpsons_ft.wv.most_similar(positive=[\"homer\"])"
      ],
      "metadata": {
        "colab": {
          "base_uri": "https://localhost:8080/"
        },
        "outputId": "a021ed73-6461-4123-8f9c-7c9e2dbd2b92",
        "id": "V4SZniKkJvIu"
      },
      "execution_count": null,
      "outputs": [
        {
          "output_type": "stream",
          "name": "stdout",
          "text": [
            "Palabras mas similares a homer con fasttext: \n"
          ]
        },
        {
          "output_type": "execute_result",
          "data": {
            "text/plain": [
              "[('homey', 0.9325317144393921),\n",
              " ('honey', 0.906828761100769),\n",
              " ('homers', 0.8984987735748291),\n",
              " ('honeymoon', 0.8851144313812256),\n",
              " ('homie', 0.8829176425933838),\n",
              " ('honestly', 0.8660751581192017),\n",
              " ('barney', 0.8640583753585815),\n",
              " ('daddy', 0.8576154708862305),\n",
              " ('honesty', 0.8566398620605469),\n",
              " ('margie', 0.8565850257873535)]"
            ]
          },
          "metadata": {},
          "execution_count": 44
        }
      ]
    },
    {
      "cell_type": "code",
      "source": [
        "print(\"Palabras mas similares a marge con word2vec: \")\n",
        "simpsons_w2v.wv.most_similar(positive=[\"marge\"])"
      ],
      "metadata": {
        "colab": {
          "base_uri": "https://localhost:8080/"
        },
        "id": "en6Ld-aqL86t",
        "outputId": "28eead7a-7abd-4aa8-8fbf-fa5976d7331b"
      },
      "execution_count": null,
      "outputs": [
        {
          "output_type": "stream",
          "name": "stdout",
          "text": [
            "Palabras mas similares a marge con word2vec: \n"
          ]
        },
        {
          "output_type": "execute_result",
          "data": {
            "text/plain": [
              "[('abe', 0.8698983788490295),\n",
              " ('bart', 0.866879940032959),\n",
              " ('lisa', 0.8645347356796265),\n",
              " ('honey', 0.8294832110404968),\n",
              " ('son', 0.818108081817627),\n",
              " ('maggie', 0.8111215829849243),\n",
              " ('grampa', 0.8068246841430664),\n",
              " ('homer', 0.8007686734199524),\n",
              " ('sweetie', 0.7910235524177551),\n",
              " ('homie', 0.7854115962982178)]"
            ]
          },
          "metadata": {},
          "execution_count": 45
        }
      ]
    },
    {
      "cell_type": "code",
      "source": [
        "print(\"Palabras mas similares a marge con fasttext: \")\n",
        "simpsons_ft.wv.most_similar(positive=[\"marge\"])"
      ],
      "metadata": {
        "colab": {
          "base_uri": "https://localhost:8080/"
        },
        "outputId": "9d995693-6c71-4603-bbe4-421f1e5f7a21",
        "id": "blC6jslsJ7BF"
      },
      "execution_count": null,
      "outputs": [
        {
          "output_type": "stream",
          "name": "stdout",
          "text": [
            "Palabras mas similares a marge con fasttext: \n"
          ]
        },
        {
          "output_type": "execute_result",
          "data": {
            "text/plain": [
              "[('margie', 0.9463471174240112),\n",
              " ('bart', 0.9281342029571533),\n",
              " ('lisa', 0.9203872680664062),\n",
              " ('abe', 0.9097050428390503),\n",
              " ('bartdude', 0.8944185972213745),\n",
              " ('maggie', 0.8915013074874878),\n",
              " ('marges', 0.8878536224365234),\n",
              " ('lisas', 0.8870899677276611),\n",
              " ('lis', 0.8814953565597534),\n",
              " ('bartholomew', 0.8787049055099487)]"
            ]
          },
          "metadata": {},
          "execution_count": 46
        }
      ]
    },
    {
      "cell_type": "code",
      "source": [
        "print(\"Palabras mas similares a liisa con fasttext: \")\n",
        "simpsons_ft.wv.most_similar(positive=[\"liisa\"])"
      ],
      "metadata": {
        "colab": {
          "base_uri": "https://localhost:8080/"
        },
        "id": "kNqLz2NbBhY_",
        "outputId": "45a34ab7-bffe-47cb-c0aa-26a8de4b9cff"
      },
      "execution_count": null,
      "outputs": [
        {
          "output_type": "stream",
          "name": "stdout",
          "text": [
            "Palabras mas similares a liisa con fasttext: \n"
          ]
        },
        {
          "output_type": "execute_result",
          "data": {
            "text/plain": [
              "[('lisa', 0.9521167874336243),\n",
              " ('lisas', 0.9404617547988892),\n",
              " ('bart', 0.9250702857971191),\n",
              " ('lil', 0.9159604907035828),\n",
              " ('bartholomew', 0.9091137051582336),\n",
              " ('lima', 0.8987029790878296),\n",
              " ('limo', 0.8952091932296753),\n",
              " ('lie', 0.8937951326370239),\n",
              " ('lis', 0.8936484456062317),\n",
              " ('list', 0.8922975063323975)]"
            ]
          },
          "metadata": {},
          "execution_count": 47
        }
      ]
    },
    {
      "cell_type": "code",
      "source": [
        "print(\"Palabras mas similares a liisa con w2vec: \")\n",
        "#simpsons_w2v.wv.most_similar(positive=[\"liisa\"])\n",
        "print(\"No existe un vector para liisa\")"
      ],
      "metadata": {
        "colab": {
          "base_uri": "https://localhost:8080/"
        },
        "id": "5Rlmhv7BBmKg",
        "outputId": "4e14feb5-dcc3-4d3a-b282-62aa6926cf19"
      },
      "execution_count": null,
      "outputs": [
        {
          "output_type": "stream",
          "name": "stdout",
          "text": [
            "Palabras mas similares a liisa con w2vec: \n",
            "No existe un vector para liisa\n"
          ]
        }
      ]
    },
    {
      "cell_type": "code",
      "source": [
        "# búsqueda del término \"homey\" encontrado en palabras similares de \"homer\"\n",
        "df[df[\"spoken_words\"].str.contains(\"Homey\")].head(10)"
      ],
      "metadata": {
        "colab": {
          "base_uri": "https://localhost:8080/",
          "height": 363
        },
        "id": "QQum8xvYf8pF",
        "outputId": "cb693b67-3620-4316-90db-46a0e9683e1c"
      },
      "execution_count": null,
      "outputs": [
        {
          "output_type": "execute_result",
          "data": {
            "text/plain": [
              "      raw_character_text                                       spoken_words\n",
              "7758       Marge Simpson                      Oh, Homey! Are you all right?\n",
              "15838      Homer Simpson  I love you, Homey. Heh, heh, heh. I don't need...\n",
              "15956      Marge Simpson  Homey, I'm very proud of you, but don't you th...\n",
              "16047      Marge Simpson         That was a very nice thing you did, Homey.\n",
              "17012      Marge Simpson  Homey, you know, it's funny -- both my mother ...\n",
              "19374      Marge Simpson                                Oh, Homey, what's--\n",
              "38961      Marge Simpson                   It's the same basic bear, Homey.\n",
              "45910      Marge Simpson    Of course, Homey. Aren't you thinking about me?\n",
              "47457      Marge Simpson         Ohhh, Homey, is that what's bothering you?\n",
              "49451      Marge Simpson  Now Homey, you know, Ned and the boys need us...."
            ],
            "text/html": [
              "\n",
              "  <div id=\"df-1cf24410-a3ba-48ab-8373-ace59634cd4f\">\n",
              "    <div class=\"colab-df-container\">\n",
              "      <div>\n",
              "<style scoped>\n",
              "    .dataframe tbody tr th:only-of-type {\n",
              "        vertical-align: middle;\n",
              "    }\n",
              "\n",
              "    .dataframe tbody tr th {\n",
              "        vertical-align: top;\n",
              "    }\n",
              "\n",
              "    .dataframe thead th {\n",
              "        text-align: right;\n",
              "    }\n",
              "</style>\n",
              "<table border=\"1\" class=\"dataframe\">\n",
              "  <thead>\n",
              "    <tr style=\"text-align: right;\">\n",
              "      <th></th>\n",
              "      <th>raw_character_text</th>\n",
              "      <th>spoken_words</th>\n",
              "    </tr>\n",
              "  </thead>\n",
              "  <tbody>\n",
              "    <tr>\n",
              "      <th>7758</th>\n",
              "      <td>Marge Simpson</td>\n",
              "      <td>Oh, Homey! Are you all right?</td>\n",
              "    </tr>\n",
              "    <tr>\n",
              "      <th>15838</th>\n",
              "      <td>Homer Simpson</td>\n",
              "      <td>I love you, Homey. Heh, heh, heh. I don't need...</td>\n",
              "    </tr>\n",
              "    <tr>\n",
              "      <th>15956</th>\n",
              "      <td>Marge Simpson</td>\n",
              "      <td>Homey, I'm very proud of you, but don't you th...</td>\n",
              "    </tr>\n",
              "    <tr>\n",
              "      <th>16047</th>\n",
              "      <td>Marge Simpson</td>\n",
              "      <td>That was a very nice thing you did, Homey.</td>\n",
              "    </tr>\n",
              "    <tr>\n",
              "      <th>17012</th>\n",
              "      <td>Marge Simpson</td>\n",
              "      <td>Homey, you know, it's funny -- both my mother ...</td>\n",
              "    </tr>\n",
              "    <tr>\n",
              "      <th>19374</th>\n",
              "      <td>Marge Simpson</td>\n",
              "      <td>Oh, Homey, what's--</td>\n",
              "    </tr>\n",
              "    <tr>\n",
              "      <th>38961</th>\n",
              "      <td>Marge Simpson</td>\n",
              "      <td>It's the same basic bear, Homey.</td>\n",
              "    </tr>\n",
              "    <tr>\n",
              "      <th>45910</th>\n",
              "      <td>Marge Simpson</td>\n",
              "      <td>Of course, Homey. Aren't you thinking about me?</td>\n",
              "    </tr>\n",
              "    <tr>\n",
              "      <th>47457</th>\n",
              "      <td>Marge Simpson</td>\n",
              "      <td>Ohhh, Homey, is that what's bothering you?</td>\n",
              "    </tr>\n",
              "    <tr>\n",
              "      <th>49451</th>\n",
              "      <td>Marge Simpson</td>\n",
              "      <td>Now Homey, you know, Ned and the boys need us....</td>\n",
              "    </tr>\n",
              "  </tbody>\n",
              "</table>\n",
              "</div>\n",
              "      <button class=\"colab-df-convert\" onclick=\"convertToInteractive('df-1cf24410-a3ba-48ab-8373-ace59634cd4f')\"\n",
              "              title=\"Convert this dataframe to an interactive table.\"\n",
              "              style=\"display:none;\">\n",
              "        \n",
              "  <svg xmlns=\"http://www.w3.org/2000/svg\" height=\"24px\"viewBox=\"0 0 24 24\"\n",
              "       width=\"24px\">\n",
              "    <path d=\"M0 0h24v24H0V0z\" fill=\"none\"/>\n",
              "    <path d=\"M18.56 5.44l.94 2.06.94-2.06 2.06-.94-2.06-.94-.94-2.06-.94 2.06-2.06.94zm-11 1L8.5 8.5l.94-2.06 2.06-.94-2.06-.94L8.5 2.5l-.94 2.06-2.06.94zm10 10l.94 2.06.94-2.06 2.06-.94-2.06-.94-.94-2.06-.94 2.06-2.06.94z\"/><path d=\"M17.41 7.96l-1.37-1.37c-.4-.4-.92-.59-1.43-.59-.52 0-1.04.2-1.43.59L10.3 9.45l-7.72 7.72c-.78.78-.78 2.05 0 2.83L4 21.41c.39.39.9.59 1.41.59.51 0 1.02-.2 1.41-.59l7.78-7.78 2.81-2.81c.8-.78.8-2.07 0-2.86zM5.41 20L4 18.59l7.72-7.72 1.47 1.35L5.41 20z\"/>\n",
              "  </svg>\n",
              "      </button>\n",
              "      \n",
              "  <style>\n",
              "    .colab-df-container {\n",
              "      display:flex;\n",
              "      flex-wrap:wrap;\n",
              "      gap: 12px;\n",
              "    }\n",
              "\n",
              "    .colab-df-convert {\n",
              "      background-color: #E8F0FE;\n",
              "      border: none;\n",
              "      border-radius: 50%;\n",
              "      cursor: pointer;\n",
              "      display: none;\n",
              "      fill: #1967D2;\n",
              "      height: 32px;\n",
              "      padding: 0 0 0 0;\n",
              "      width: 32px;\n",
              "    }\n",
              "\n",
              "    .colab-df-convert:hover {\n",
              "      background-color: #E2EBFA;\n",
              "      box-shadow: 0px 1px 2px rgba(60, 64, 67, 0.3), 0px 1px 3px 1px rgba(60, 64, 67, 0.15);\n",
              "      fill: #174EA6;\n",
              "    }\n",
              "\n",
              "    [theme=dark] .colab-df-convert {\n",
              "      background-color: #3B4455;\n",
              "      fill: #D2E3FC;\n",
              "    }\n",
              "\n",
              "    [theme=dark] .colab-df-convert:hover {\n",
              "      background-color: #434B5C;\n",
              "      box-shadow: 0px 1px 3px 1px rgba(0, 0, 0, 0.15);\n",
              "      filter: drop-shadow(0px 1px 2px rgba(0, 0, 0, 0.3));\n",
              "      fill: #FFFFFF;\n",
              "    }\n",
              "  </style>\n",
              "\n",
              "      <script>\n",
              "        const buttonEl =\n",
              "          document.querySelector('#df-1cf24410-a3ba-48ab-8373-ace59634cd4f button.colab-df-convert');\n",
              "        buttonEl.style.display =\n",
              "          google.colab.kernel.accessAllowed ? 'block' : 'none';\n",
              "\n",
              "        async function convertToInteractive(key) {\n",
              "          const element = document.querySelector('#df-1cf24410-a3ba-48ab-8373-ace59634cd4f');\n",
              "          const dataTable =\n",
              "            await google.colab.kernel.invokeFunction('convertToInteractive',\n",
              "                                                     [key], {});\n",
              "          if (!dataTable) return;\n",
              "\n",
              "          const docLinkHtml = 'Like what you see? Visit the ' +\n",
              "            '<a target=\"_blank\" href=https://colab.research.google.com/notebooks/data_table.ipynb>data table notebook</a>'\n",
              "            + ' to learn more about interactive tables.';\n",
              "          element.innerHTML = '';\n",
              "          dataTable['output_type'] = 'display_data';\n",
              "          await google.colab.output.renderOutput(dataTable, element);\n",
              "          const docLink = document.createElement('div');\n",
              "          docLink.innerHTML = docLinkHtml;\n",
              "          element.appendChild(docLink);\n",
              "        }\n",
              "      </script>\n",
              "    </div>\n",
              "  </div>\n",
              "  "
            ]
          },
          "metadata": {},
          "execution_count": 49
        }
      ]
    },
    {
      "cell_type": "code",
      "source": [
        "# búsqueda del término \"lil\" encontrado en palabras similares de \"lisa\"\n",
        "df[df[\"spoken_words\"].str.contains(\"Lil\")].head(10)"
      ],
      "metadata": {
        "colab": {
          "base_uri": "https://localhost:8080/",
          "height": 363
        },
        "id": "EwMcKUaGiVtT",
        "outputId": "ba381cc6-0ae9-40cf-c8d9-546ff208f988"
      },
      "execution_count": null,
      "outputs": [
        {
          "output_type": "execute_result",
          "data": {
            "text/plain": [
              "         raw_character_text                                       spoken_words\n",
              "29006   C. Montgomery Burns  Who should appear but the unrequited love of m...\n",
              "29007   C. Montgomery Burns           I took Lily to the local cinematorium...\n",
              "29012   C. Montgomery Burns  Oh, there was a terrible scandal. Lily's famil...\n",
              "89865       Lillian Hellman  Don't forget me, Lillian Hellman! Smoking gave...\n",
              "96397        Hooded Figures  She is Lilith, who leadeth forth the hordes of...\n",
              "96483             Gwendolyn   Goddess Lilith, who knows our hearts are pure...\n",
              "115211  C. Montgomery Burns  I had a spring in my step like that once, back...\n",
              "115212           MR. BURNS.  Lilah ran a little crepe stand in the 7th arro...\n",
              "115219  C. Montgomery Burns  It looked a lot better in my memory. But do yo...\n",
              "115262  C. Montgomery Burns                                    Lilah's alive?!"
            ],
            "text/html": [
              "\n",
              "  <div id=\"df-ed50045a-3329-4020-b8cc-650a8c39c30a\">\n",
              "    <div class=\"colab-df-container\">\n",
              "      <div>\n",
              "<style scoped>\n",
              "    .dataframe tbody tr th:only-of-type {\n",
              "        vertical-align: middle;\n",
              "    }\n",
              "\n",
              "    .dataframe tbody tr th {\n",
              "        vertical-align: top;\n",
              "    }\n",
              "\n",
              "    .dataframe thead th {\n",
              "        text-align: right;\n",
              "    }\n",
              "</style>\n",
              "<table border=\"1\" class=\"dataframe\">\n",
              "  <thead>\n",
              "    <tr style=\"text-align: right;\">\n",
              "      <th></th>\n",
              "      <th>raw_character_text</th>\n",
              "      <th>spoken_words</th>\n",
              "    </tr>\n",
              "  </thead>\n",
              "  <tbody>\n",
              "    <tr>\n",
              "      <th>29006</th>\n",
              "      <td>C. Montgomery Burns</td>\n",
              "      <td>Who should appear but the unrequited love of m...</td>\n",
              "    </tr>\n",
              "    <tr>\n",
              "      <th>29007</th>\n",
              "      <td>C. Montgomery Burns</td>\n",
              "      <td>I took Lily to the local cinematorium...</td>\n",
              "    </tr>\n",
              "    <tr>\n",
              "      <th>29012</th>\n",
              "      <td>C. Montgomery Burns</td>\n",
              "      <td>Oh, there was a terrible scandal. Lily's famil...</td>\n",
              "    </tr>\n",
              "    <tr>\n",
              "      <th>89865</th>\n",
              "      <td>Lillian Hellman</td>\n",
              "      <td>Don't forget me, Lillian Hellman! Smoking gave...</td>\n",
              "    </tr>\n",
              "    <tr>\n",
              "      <th>96397</th>\n",
              "      <td>Hooded Figures</td>\n",
              "      <td>She is Lilith, who leadeth forth the hordes of...</td>\n",
              "    </tr>\n",
              "    <tr>\n",
              "      <th>96483</th>\n",
              "      <td>Gwendolyn</td>\n",
              "      <td>Goddess Lilith, who knows our hearts are pure...</td>\n",
              "    </tr>\n",
              "    <tr>\n",
              "      <th>115211</th>\n",
              "      <td>C. Montgomery Burns</td>\n",
              "      <td>I had a spring in my step like that once, back...</td>\n",
              "    </tr>\n",
              "    <tr>\n",
              "      <th>115212</th>\n",
              "      <td>MR. BURNS.</td>\n",
              "      <td>Lilah ran a little crepe stand in the 7th arro...</td>\n",
              "    </tr>\n",
              "    <tr>\n",
              "      <th>115219</th>\n",
              "      <td>C. Montgomery Burns</td>\n",
              "      <td>It looked a lot better in my memory. But do yo...</td>\n",
              "    </tr>\n",
              "    <tr>\n",
              "      <th>115262</th>\n",
              "      <td>C. Montgomery Burns</td>\n",
              "      <td>Lilah's alive?!</td>\n",
              "    </tr>\n",
              "  </tbody>\n",
              "</table>\n",
              "</div>\n",
              "      <button class=\"colab-df-convert\" onclick=\"convertToInteractive('df-ed50045a-3329-4020-b8cc-650a8c39c30a')\"\n",
              "              title=\"Convert this dataframe to an interactive table.\"\n",
              "              style=\"display:none;\">\n",
              "        \n",
              "  <svg xmlns=\"http://www.w3.org/2000/svg\" height=\"24px\"viewBox=\"0 0 24 24\"\n",
              "       width=\"24px\">\n",
              "    <path d=\"M0 0h24v24H0V0z\" fill=\"none\"/>\n",
              "    <path d=\"M18.56 5.44l.94 2.06.94-2.06 2.06-.94-2.06-.94-.94-2.06-.94 2.06-2.06.94zm-11 1L8.5 8.5l.94-2.06 2.06-.94-2.06-.94L8.5 2.5l-.94 2.06-2.06.94zm10 10l.94 2.06.94-2.06 2.06-.94-2.06-.94-.94-2.06-.94 2.06-2.06.94z\"/><path d=\"M17.41 7.96l-1.37-1.37c-.4-.4-.92-.59-1.43-.59-.52 0-1.04.2-1.43.59L10.3 9.45l-7.72 7.72c-.78.78-.78 2.05 0 2.83L4 21.41c.39.39.9.59 1.41.59.51 0 1.02-.2 1.41-.59l7.78-7.78 2.81-2.81c.8-.78.8-2.07 0-2.86zM5.41 20L4 18.59l7.72-7.72 1.47 1.35L5.41 20z\"/>\n",
              "  </svg>\n",
              "      </button>\n",
              "      \n",
              "  <style>\n",
              "    .colab-df-container {\n",
              "      display:flex;\n",
              "      flex-wrap:wrap;\n",
              "      gap: 12px;\n",
              "    }\n",
              "\n",
              "    .colab-df-convert {\n",
              "      background-color: #E8F0FE;\n",
              "      border: none;\n",
              "      border-radius: 50%;\n",
              "      cursor: pointer;\n",
              "      display: none;\n",
              "      fill: #1967D2;\n",
              "      height: 32px;\n",
              "      padding: 0 0 0 0;\n",
              "      width: 32px;\n",
              "    }\n",
              "\n",
              "    .colab-df-convert:hover {\n",
              "      background-color: #E2EBFA;\n",
              "      box-shadow: 0px 1px 2px rgba(60, 64, 67, 0.3), 0px 1px 3px 1px rgba(60, 64, 67, 0.15);\n",
              "      fill: #174EA6;\n",
              "    }\n",
              "\n",
              "    [theme=dark] .colab-df-convert {\n",
              "      background-color: #3B4455;\n",
              "      fill: #D2E3FC;\n",
              "    }\n",
              "\n",
              "    [theme=dark] .colab-df-convert:hover {\n",
              "      background-color: #434B5C;\n",
              "      box-shadow: 0px 1px 3px 1px rgba(0, 0, 0, 0.15);\n",
              "      filter: drop-shadow(0px 1px 2px rgba(0, 0, 0, 0.3));\n",
              "      fill: #FFFFFF;\n",
              "    }\n",
              "  </style>\n",
              "\n",
              "      <script>\n",
              "        const buttonEl =\n",
              "          document.querySelector('#df-ed50045a-3329-4020-b8cc-650a8c39c30a button.colab-df-convert');\n",
              "        buttonEl.style.display =\n",
              "          google.colab.kernel.accessAllowed ? 'block' : 'none';\n",
              "\n",
              "        async function convertToInteractive(key) {\n",
              "          const element = document.querySelector('#df-ed50045a-3329-4020-b8cc-650a8c39c30a');\n",
              "          const dataTable =\n",
              "            await google.colab.kernel.invokeFunction('convertToInteractive',\n",
              "                                                     [key], {});\n",
              "          if (!dataTable) return;\n",
              "\n",
              "          const docLinkHtml = 'Like what you see? Visit the ' +\n",
              "            '<a target=\"_blank\" href=https://colab.research.google.com/notebooks/data_table.ipynb>data table notebook</a>'\n",
              "            + ' to learn more about interactive tables.';\n",
              "          element.innerHTML = '';\n",
              "          dataTable['output_type'] = 'display_data';\n",
              "          await google.colab.output.renderOutput(dataTable, element);\n",
              "          const docLink = document.createElement('div');\n",
              "          docLink.innerHTML = docLinkHtml;\n",
              "          element.appendChild(docLink);\n",
              "        }\n",
              "      </script>\n",
              "    </div>\n",
              "  </div>\n",
              "  "
            ]
          },
          "metadata": {},
          "execution_count": 50
        }
      ]
    },
    {
      "cell_type": "code",
      "source": [
        "# búsqueda del término \"margie\" encontrado en palabras similares de \"marge\"\n",
        "df[df[\"spoken_words\"].str.contains(\"Margie\")].head(10)"
      ],
      "metadata": {
        "colab": {
          "base_uri": "https://localhost:8080/",
          "height": 300
        },
        "id": "noD1-332kg1q",
        "outputId": "8ecd9738-5e2b-4ed0-e567-c9e02b4b474f"
      },
      "execution_count": null,
      "outputs": [
        {
          "output_type": "execute_result",
          "data": {
            "text/plain": [
              "        raw_character_text                                       spoken_words\n",
              "19698          Mr. Bouvier              Goodbye, Margie. Be a good girl, now.\n",
              "19702   Jacqueline Bouvier                              Margie, oh come back!\n",
              "51421         Bart Simpson  The kids are saying if you say Bloody Margie f...\n",
              "74263        Homer Simpson  And you're my Margie-wargie-bargie-fargie-garg...\n",
              "84975                 Wife  Mr. Simpson! / You good man! / We happy see yo...\n",
              "87524        Homer Simpson  What?! Oh my God, my sweet Margie! Okay, liste...\n",
              "106500       Homer Simpson  Everything's a rip-off of \"The Honeymooners.\" ...\n",
              "125104  Jacqueline Bouvier  Wait, Margie. Before you go out that door, let..."
            ],
            "text/html": [
              "\n",
              "  <div id=\"df-52c249a5-6bc3-4831-83c1-6b823310ba41\">\n",
              "    <div class=\"colab-df-container\">\n",
              "      <div>\n",
              "<style scoped>\n",
              "    .dataframe tbody tr th:only-of-type {\n",
              "        vertical-align: middle;\n",
              "    }\n",
              "\n",
              "    .dataframe tbody tr th {\n",
              "        vertical-align: top;\n",
              "    }\n",
              "\n",
              "    .dataframe thead th {\n",
              "        text-align: right;\n",
              "    }\n",
              "</style>\n",
              "<table border=\"1\" class=\"dataframe\">\n",
              "  <thead>\n",
              "    <tr style=\"text-align: right;\">\n",
              "      <th></th>\n",
              "      <th>raw_character_text</th>\n",
              "      <th>spoken_words</th>\n",
              "    </tr>\n",
              "  </thead>\n",
              "  <tbody>\n",
              "    <tr>\n",
              "      <th>19698</th>\n",
              "      <td>Mr. Bouvier</td>\n",
              "      <td>Goodbye, Margie. Be a good girl, now.</td>\n",
              "    </tr>\n",
              "    <tr>\n",
              "      <th>19702</th>\n",
              "      <td>Jacqueline Bouvier</td>\n",
              "      <td>Margie, oh come back!</td>\n",
              "    </tr>\n",
              "    <tr>\n",
              "      <th>51421</th>\n",
              "      <td>Bart Simpson</td>\n",
              "      <td>The kids are saying if you say Bloody Margie f...</td>\n",
              "    </tr>\n",
              "    <tr>\n",
              "      <th>74263</th>\n",
              "      <td>Homer Simpson</td>\n",
              "      <td>And you're my Margie-wargie-bargie-fargie-garg...</td>\n",
              "    </tr>\n",
              "    <tr>\n",
              "      <th>84975</th>\n",
              "      <td>Wife</td>\n",
              "      <td>Mr. Simpson! / You good man! / We happy see yo...</td>\n",
              "    </tr>\n",
              "    <tr>\n",
              "      <th>87524</th>\n",
              "      <td>Homer Simpson</td>\n",
              "      <td>What?! Oh my God, my sweet Margie! Okay, liste...</td>\n",
              "    </tr>\n",
              "    <tr>\n",
              "      <th>106500</th>\n",
              "      <td>Homer Simpson</td>\n",
              "      <td>Everything's a rip-off of \"The Honeymooners.\" ...</td>\n",
              "    </tr>\n",
              "    <tr>\n",
              "      <th>125104</th>\n",
              "      <td>Jacqueline Bouvier</td>\n",
              "      <td>Wait, Margie. Before you go out that door, let...</td>\n",
              "    </tr>\n",
              "  </tbody>\n",
              "</table>\n",
              "</div>\n",
              "      <button class=\"colab-df-convert\" onclick=\"convertToInteractive('df-52c249a5-6bc3-4831-83c1-6b823310ba41')\"\n",
              "              title=\"Convert this dataframe to an interactive table.\"\n",
              "              style=\"display:none;\">\n",
              "        \n",
              "  <svg xmlns=\"http://www.w3.org/2000/svg\" height=\"24px\"viewBox=\"0 0 24 24\"\n",
              "       width=\"24px\">\n",
              "    <path d=\"M0 0h24v24H0V0z\" fill=\"none\"/>\n",
              "    <path d=\"M18.56 5.44l.94 2.06.94-2.06 2.06-.94-2.06-.94-.94-2.06-.94 2.06-2.06.94zm-11 1L8.5 8.5l.94-2.06 2.06-.94-2.06-.94L8.5 2.5l-.94 2.06-2.06.94zm10 10l.94 2.06.94-2.06 2.06-.94-2.06-.94-.94-2.06-.94 2.06-2.06.94z\"/><path d=\"M17.41 7.96l-1.37-1.37c-.4-.4-.92-.59-1.43-.59-.52 0-1.04.2-1.43.59L10.3 9.45l-7.72 7.72c-.78.78-.78 2.05 0 2.83L4 21.41c.39.39.9.59 1.41.59.51 0 1.02-.2 1.41-.59l7.78-7.78 2.81-2.81c.8-.78.8-2.07 0-2.86zM5.41 20L4 18.59l7.72-7.72 1.47 1.35L5.41 20z\"/>\n",
              "  </svg>\n",
              "      </button>\n",
              "      \n",
              "  <style>\n",
              "    .colab-df-container {\n",
              "      display:flex;\n",
              "      flex-wrap:wrap;\n",
              "      gap: 12px;\n",
              "    }\n",
              "\n",
              "    .colab-df-convert {\n",
              "      background-color: #E8F0FE;\n",
              "      border: none;\n",
              "      border-radius: 50%;\n",
              "      cursor: pointer;\n",
              "      display: none;\n",
              "      fill: #1967D2;\n",
              "      height: 32px;\n",
              "      padding: 0 0 0 0;\n",
              "      width: 32px;\n",
              "    }\n",
              "\n",
              "    .colab-df-convert:hover {\n",
              "      background-color: #E2EBFA;\n",
              "      box-shadow: 0px 1px 2px rgba(60, 64, 67, 0.3), 0px 1px 3px 1px rgba(60, 64, 67, 0.15);\n",
              "      fill: #174EA6;\n",
              "    }\n",
              "\n",
              "    [theme=dark] .colab-df-convert {\n",
              "      background-color: #3B4455;\n",
              "      fill: #D2E3FC;\n",
              "    }\n",
              "\n",
              "    [theme=dark] .colab-df-convert:hover {\n",
              "      background-color: #434B5C;\n",
              "      box-shadow: 0px 1px 3px 1px rgba(0, 0, 0, 0.15);\n",
              "      filter: drop-shadow(0px 1px 2px rgba(0, 0, 0, 0.3));\n",
              "      fill: #FFFFFF;\n",
              "    }\n",
              "  </style>\n",
              "\n",
              "      <script>\n",
              "        const buttonEl =\n",
              "          document.querySelector('#df-52c249a5-6bc3-4831-83c1-6b823310ba41 button.colab-df-convert');\n",
              "        buttonEl.style.display =\n",
              "          google.colab.kernel.accessAllowed ? 'block' : 'none';\n",
              "\n",
              "        async function convertToInteractive(key) {\n",
              "          const element = document.querySelector('#df-52c249a5-6bc3-4831-83c1-6b823310ba41');\n",
              "          const dataTable =\n",
              "            await google.colab.kernel.invokeFunction('convertToInteractive',\n",
              "                                                     [key], {});\n",
              "          if (!dataTable) return;\n",
              "\n",
              "          const docLinkHtml = 'Like what you see? Visit the ' +\n",
              "            '<a target=\"_blank\" href=https://colab.research.google.com/notebooks/data_table.ipynb>data table notebook</a>'\n",
              "            + ' to learn more about interactive tables.';\n",
              "          element.innerHTML = '';\n",
              "          dataTable['output_type'] = 'display_data';\n",
              "          await google.colab.output.renderOutput(dataTable, element);\n",
              "          const docLink = document.createElement('div');\n",
              "          docLink.innerHTML = docLinkHtml;\n",
              "          element.appendChild(docLink);\n",
              "        }\n",
              "      </script>\n",
              "    </div>\n",
              "  </div>\n",
              "  "
            ]
          },
          "metadata": {},
          "execution_count": 51
        }
      ]
    },
    {
      "cell_type": "markdown",
      "source": [
        "**Comparation**\n",
        "\n",
        "Both models yielded good results, providing other characters as similar words, their nicknames, nouns, and even alternative spellings of the names. The difference is that FastText captured the morphology of the words, delivering nicknames for the same characters. For example, for \"Marge,\" it provided \"Margie\" as a similar vector, and for \"Homer,\" it provided \"Homey.\" However, FastText also considered morphologically similar words as similar vectors, even if they were not semantically similar. For instance, \"Lisa\" was found to be similar to \"Lima\" or \"Lil,\" which Word2Vec did not do. This occurs because, unlike Word2Vec, FastText breaks down words into n-grams and performs comparisons between them.\n",
        "\n",
        "The choice of which model to use depends on the task you plan to perform with the embeddings. Specifically, if the task involves obtaining embeddings for words that were not used in the model's training, FastText would be preferred.\n",
        "\n",
        "In the case of \"Liisa,\" FastText can find similar words in the corpus, but Word2Vec cannot because it is not found in the vocabulary, and as mentioned, Word2Vec does not break down any words.\n"
      ],
      "metadata": {
        "id": "9UJXGGnhdP-0"
      }
    },
    {
      "cell_type": "markdown",
      "metadata": {
        "id": "IRCB-jqgTNcs"
      },
      "source": [
        "### **Embeddings for classification**"
      ]
    },
    {
      "cell_type": "markdown",
      "metadata": {
        "id": "zlqzlJRSTNcs"
      },
      "source": [
        "Now we will use the embeddings we just calculated to classify words based on their polarity (positive or negative).\n",
        "\n",
        "For this, we will use the AFINN lexicon included in the task, which consists of a list of words and a 1 if their connotation is positive and a -1 if it is negative."
      ]
    },
    {
      "cell_type": "code",
      "metadata": {
        "id": "tWSSuctiTNcs"
      },
      "source": [
        "# for words not in vocab\n",
        "def try_apply(model, word):\n",
        "    try:\n",
        "        aux = model[word]\n",
        "        return True\n",
        "    except KeyError:\n",
        "        #logger.error('Word {} not in dictionary'.format(word))\n",
        "        return False"
      ],
      "execution_count": null,
      "outputs": []
    },
    {
      "cell_type": "code",
      "source": [
        "df_afinn =  pd.read_csv(\"AFINN_full.csv\", header = None, sep = '\t').rename(columns = {0: \"word\", 1: \"Category\"})"
      ],
      "metadata": {
        "id": "8Dy3_g7vKmUw"
      },
      "execution_count": null,
      "outputs": []
    },
    {
      "cell_type": "code",
      "source": [
        "df_afinn[\"can_vec\"] = df_afinn[\"word\"].apply(lambda x: try_apply(simpsons_w2v.wv, x))\n",
        "df_w2v = df_afinn[df_afinn[\"can_vec\"] == True]"
      ],
      "metadata": {
        "id": "pSQeQq4JNYfi"
      },
      "execution_count": null,
      "outputs": []
    },
    {
      "cell_type": "code",
      "metadata": {
        "id": "0Bkt26BwTNcs"
      },
      "source": [
        "X_train, X_test, y_train, y_test = train_test_split(df_w2v[\"word\"], df_w2v[\"Category\"], random_state=0, test_size=0.1, stratify=df_w2v[\"Category\"])"
      ],
      "execution_count": null,
      "outputs": []
    },
    {
      "cell_type": "code",
      "source": [
        "from sklearn.base import BaseEstimator\n",
        "class Doc2VecTransformer(BaseEstimator):\n",
        "    \"\"\" Transforma tweets a representaciones vectoriales usando algún modelo de Word Embeddings.\n",
        "    \"\"\"\n",
        "    \n",
        "    def __init__(self, model):\n",
        "        self.model = model.wv \n",
        "        \n",
        "    def fit(self, X, y=None):\n",
        "        return self\n",
        "\n",
        "    def transform(self, X, y=None):\n",
        "        \n",
        "        doc_embeddings = []\n",
        "        \n",
        "        for doc in X:\n",
        "            doc_embeddings.append(self.model[doc])\n",
        "        return np.array(doc_embeddings)"
      ],
      "metadata": {
        "id": "xJIasVSdSm3d"
      },
      "execution_count": null,
      "outputs": []
    },
    {
      "cell_type": "code",
      "source": [
        "from sklearn.pipeline import Pipeline\n",
        "clf = LogisticRegression(max_iter=1000000)\n",
        "pipeline = Pipeline([('doc2vec', Doc2VecTransformer(simpsons_w2v)), ('clf', clf)])\n",
        "pipeline.fit(X_train, y_train)"
      ],
      "metadata": {
        "colab": {
          "base_uri": "https://localhost:8080/",
          "height": 126
        },
        "id": "Hzhta7GqPNqu",
        "outputId": "2d94382e-f563-4c5c-db9d-24149922fe12"
      },
      "execution_count": null,
      "outputs": [
        {
          "output_type": "execute_result",
          "data": {
            "text/plain": [
              "Pipeline(steps=[('doc2vec',\n",
              "                 Doc2VecTransformer(model=<gensim.models.keyedvectors.KeyedVectors object at 0x7f35785d0c40>)),\n",
              "                ('clf', LogisticRegression(max_iter=1000000))])"
            ],
            "text/html": [
              "<style>#sk-container-id-2 {color: black;background-color: white;}#sk-container-id-2 pre{padding: 0;}#sk-container-id-2 div.sk-toggleable {background-color: white;}#sk-container-id-2 label.sk-toggleable__label {cursor: pointer;display: block;width: 100%;margin-bottom: 0;padding: 0.3em;box-sizing: border-box;text-align: center;}#sk-container-id-2 label.sk-toggleable__label-arrow:before {content: \"▸\";float: left;margin-right: 0.25em;color: #696969;}#sk-container-id-2 label.sk-toggleable__label-arrow:hover:before {color: black;}#sk-container-id-2 div.sk-estimator:hover label.sk-toggleable__label-arrow:before {color: black;}#sk-container-id-2 div.sk-toggleable__content {max-height: 0;max-width: 0;overflow: hidden;text-align: left;background-color: #f0f8ff;}#sk-container-id-2 div.sk-toggleable__content pre {margin: 0.2em;color: black;border-radius: 0.25em;background-color: #f0f8ff;}#sk-container-id-2 input.sk-toggleable__control:checked~div.sk-toggleable__content {max-height: 200px;max-width: 100%;overflow: auto;}#sk-container-id-2 input.sk-toggleable__control:checked~label.sk-toggleable__label-arrow:before {content: \"▾\";}#sk-container-id-2 div.sk-estimator input.sk-toggleable__control:checked~label.sk-toggleable__label {background-color: #d4ebff;}#sk-container-id-2 div.sk-label input.sk-toggleable__control:checked~label.sk-toggleable__label {background-color: #d4ebff;}#sk-container-id-2 input.sk-hidden--visually {border: 0;clip: rect(1px 1px 1px 1px);clip: rect(1px, 1px, 1px, 1px);height: 1px;margin: -1px;overflow: hidden;padding: 0;position: absolute;width: 1px;}#sk-container-id-2 div.sk-estimator {font-family: monospace;background-color: #f0f8ff;border: 1px dotted black;border-radius: 0.25em;box-sizing: border-box;margin-bottom: 0.5em;}#sk-container-id-2 div.sk-estimator:hover {background-color: #d4ebff;}#sk-container-id-2 div.sk-parallel-item::after {content: \"\";width: 100%;border-bottom: 1px solid gray;flex-grow: 1;}#sk-container-id-2 div.sk-label:hover label.sk-toggleable__label {background-color: #d4ebff;}#sk-container-id-2 div.sk-serial::before {content: \"\";position: absolute;border-left: 1px solid gray;box-sizing: border-box;top: 0;bottom: 0;left: 50%;z-index: 0;}#sk-container-id-2 div.sk-serial {display: flex;flex-direction: column;align-items: center;background-color: white;padding-right: 0.2em;padding-left: 0.2em;position: relative;}#sk-container-id-2 div.sk-item {position: relative;z-index: 1;}#sk-container-id-2 div.sk-parallel {display: flex;align-items: stretch;justify-content: center;background-color: white;position: relative;}#sk-container-id-2 div.sk-item::before, #sk-container-id-2 div.sk-parallel-item::before {content: \"\";position: absolute;border-left: 1px solid gray;box-sizing: border-box;top: 0;bottom: 0;left: 50%;z-index: -1;}#sk-container-id-2 div.sk-parallel-item {display: flex;flex-direction: column;z-index: 1;position: relative;background-color: white;}#sk-container-id-2 div.sk-parallel-item:first-child::after {align-self: flex-end;width: 50%;}#sk-container-id-2 div.sk-parallel-item:last-child::after {align-self: flex-start;width: 50%;}#sk-container-id-2 div.sk-parallel-item:only-child::after {width: 0;}#sk-container-id-2 div.sk-dashed-wrapped {border: 1px dashed gray;margin: 0 0.4em 0.5em 0.4em;box-sizing: border-box;padding-bottom: 0.4em;background-color: white;}#sk-container-id-2 div.sk-label label {font-family: monospace;font-weight: bold;display: inline-block;line-height: 1.2em;}#sk-container-id-2 div.sk-label-container {text-align: center;}#sk-container-id-2 div.sk-container {/* jupyter's `normalize.less` sets `[hidden] { display: none; }` but bootstrap.min.css set `[hidden] { display: none !important; }` so we also need the `!important` here to be able to override the default hidden behavior on the sphinx rendered scikit-learn.org. See: https://github.com/scikit-learn/scikit-learn/issues/21755 */display: inline-block !important;position: relative;}#sk-container-id-2 div.sk-text-repr-fallback {display: none;}</style><div id=\"sk-container-id-2\" class=\"sk-top-container\"><div class=\"sk-text-repr-fallback\"><pre>Pipeline(steps=[(&#x27;doc2vec&#x27;,\n",
              "                 Doc2VecTransformer(model=&lt;gensim.models.keyedvectors.KeyedVectors object at 0x7f35785d0c40&gt;)),\n",
              "                (&#x27;clf&#x27;, LogisticRegression(max_iter=1000000))])</pre><b>In a Jupyter environment, please rerun this cell to show the HTML representation or trust the notebook. <br />On GitHub, the HTML representation is unable to render, please try loading this page with nbviewer.org.</b></div><div class=\"sk-container\" hidden><div class=\"sk-item sk-dashed-wrapped\"><div class=\"sk-label-container\"><div class=\"sk-label sk-toggleable\"><input class=\"sk-toggleable__control sk-hidden--visually\" id=\"sk-estimator-id-4\" type=\"checkbox\" ><label for=\"sk-estimator-id-4\" class=\"sk-toggleable__label sk-toggleable__label-arrow\">Pipeline</label><div class=\"sk-toggleable__content\"><pre>Pipeline(steps=[(&#x27;doc2vec&#x27;,\n",
              "                 Doc2VecTransformer(model=&lt;gensim.models.keyedvectors.KeyedVectors object at 0x7f35785d0c40&gt;)),\n",
              "                (&#x27;clf&#x27;, LogisticRegression(max_iter=1000000))])</pre></div></div></div><div class=\"sk-serial\"><div class=\"sk-item\"><div class=\"sk-estimator sk-toggleable\"><input class=\"sk-toggleable__control sk-hidden--visually\" id=\"sk-estimator-id-5\" type=\"checkbox\" ><label for=\"sk-estimator-id-5\" class=\"sk-toggleable__label sk-toggleable__label-arrow\">Doc2VecTransformer</label><div class=\"sk-toggleable__content\"><pre>Doc2VecTransformer(model=&lt;gensim.models.keyedvectors.KeyedVectors object at 0x7f35785d0c40&gt;)</pre></div></div></div><div class=\"sk-item\"><div class=\"sk-estimator sk-toggleable\"><input class=\"sk-toggleable__control sk-hidden--visually\" id=\"sk-estimator-id-6\" type=\"checkbox\" ><label for=\"sk-estimator-id-6\" class=\"sk-toggleable__label sk-toggleable__label-arrow\">LogisticRegression</label><div class=\"sk-toggleable__content\"><pre>LogisticRegression(max_iter=1000000)</pre></div></div></div></div></div></div></div>"
            ]
          },
          "metadata": {},
          "execution_count": 60
        }
      ]
    },
    {
      "cell_type": "code",
      "source": [
        "y_pred = pipeline.predict(X_test)"
      ],
      "metadata": {
        "id": "E-KtoEcSWTgv"
      },
      "execution_count": null,
      "outputs": []
    },
    {
      "cell_type": "code",
      "source": [
        "conf_matrix_w2v = confusion_matrix(y_test, y_pred)"
      ],
      "metadata": {
        "id": "c5y4_g8JYEcL"
      },
      "execution_count": null,
      "outputs": []
    },
    {
      "cell_type": "code",
      "source": [
        "import seaborn as sns\n",
        "\n",
        "ax = plt.subplot()\n",
        "sns.heatmap(conf_matrix_w2v, annot=True, fmt='g', ax=ax, cmap=\"Blues\");\n",
        "\n",
        "# labels, title and ticks\n",
        "ax.set_xlabel('Predicted labels');ax.set_ylabel('True labels'); \n",
        "ax.set_title('Confusion Matrix W2V'); \n",
        "ax.xaxis.set_ticklabels(['-1', '1']); ax.yaxis.set_ticklabels(['-1', '1']);"
      ],
      "metadata": {
        "colab": {
          "base_uri": "https://localhost:8080/",
          "height": 472
        },
        "id": "D-QMOMQFz9WO",
        "outputId": "e4df92c5-b41b-482a-eaed-c7a59c2e2475"
      },
      "execution_count": null,
      "outputs": [
        {
          "output_type": "display_data",
          "data": {
            "text/plain": [
              "<Figure size 640x480 with 2 Axes>"
            ],
            "image/png": "[encoded data removed]"
          },
          "metadata": {}
        }
      ]
    },
    {
      "cell_type": "code",
      "source": [
        "print(classification_report(y_test, y_pred))"
      ],
      "metadata": {
        "colab": {
          "base_uri": "https://localhost:8080/"
        },
        "id": "izv1tk-FWq7w",
        "outputId": "8ef978b5-666e-43c1-a7c3-b033f232957d"
      },
      "execution_count": null,
      "outputs": [
        {
          "output_type": "stream",
          "name": "stdout",
          "text": [
            "              precision    recall  f1-score   support\n",
            "\n",
            "          -1       0.65      0.95      0.77        55\n",
            "           1       0.83      0.35      0.49        43\n",
            "\n",
            "    accuracy                           0.68        98\n",
            "   macro avg       0.74      0.65      0.63        98\n",
            "weighted avg       0.73      0.68      0.65        98\n",
            "\n"
          ]
        }
      ]
    },
    {
      "cell_type": "code",
      "metadata": {
        "id": "vYhHKV63WrMy"
      },
      "source": [
        "X_train, X_test, y_train, y_test = train_test_split(df_afinn[\"word\"], df_afinn[\"Category\"], random_state=0, test_size=0.1, stratify=df_afinn[\"Category\"])"
      ],
      "execution_count": null,
      "outputs": []
    },
    {
      "cell_type": "code",
      "source": [
        "clf = LogisticRegression(max_iter=1000000)\n",
        "pipeline = Pipeline([('doc2vec', Doc2VecTransformer(simpsons_ft)), ('clf', clf)])\n",
        "pipeline.fit(X_train, y_train)"
      ],
      "metadata": {
        "colab": {
          "base_uri": "https://localhost:8080/",
          "height": 126
        },
        "id": "nbGUpBgaW54D",
        "outputId": "022b4949-c83f-46bd-96f3-be6fe77f2d9f"
      },
      "execution_count": null,
      "outputs": [
        {
          "output_type": "execute_result",
          "data": {
            "text/plain": [
              "Pipeline(steps=[('doc2vec',\n",
              "                 Doc2VecTransformer(model=<gensim.models.fasttext.FastTextKeyedVectors object at 0x7f3747789cc0>)),\n",
              "                ('clf', LogisticRegression(max_iter=1000000))])"
            ],
            "text/html": [
              "<style>#sk-container-id-3 {color: black;background-color: white;}#sk-container-id-3 pre{padding: 0;}#sk-container-id-3 div.sk-toggleable {background-color: white;}#sk-container-id-3 label.sk-toggleable__label {cursor: pointer;display: block;width: 100%;margin-bottom: 0;padding: 0.3em;box-sizing: border-box;text-align: center;}#sk-container-id-3 label.sk-toggleable__label-arrow:before {content: \"▸\";float: left;margin-right: 0.25em;color: #696969;}#sk-container-id-3 label.sk-toggleable__label-arrow:hover:before {color: black;}#sk-container-id-3 div.sk-estimator:hover label.sk-toggleable__label-arrow:before {color: black;}#sk-container-id-3 div.sk-toggleable__content {max-height: 0;max-width: 0;overflow: hidden;text-align: left;background-color: #f0f8ff;}#sk-container-id-3 div.sk-toggleable__content pre {margin: 0.2em;color: black;border-radius: 0.25em;background-color: #f0f8ff;}#sk-container-id-3 input.sk-toggleable__control:checked~div.sk-toggleable__content {max-height: 200px;max-width: 100%;overflow: auto;}#sk-container-id-3 input.sk-toggleable__control:checked~label.sk-toggleable__label-arrow:before {content: \"▾\";}#sk-container-id-3 div.sk-estimator input.sk-toggleable__control:checked~label.sk-toggleable__label {background-color: #d4ebff;}#sk-container-id-3 div.sk-label input.sk-toggleable__control:checked~label.sk-toggleable__label {background-color: #d4ebff;}#sk-container-id-3 input.sk-hidden--visually {border: 0;clip: rect(1px 1px 1px 1px);clip: rect(1px, 1px, 1px, 1px);height: 1px;margin: -1px;overflow: hidden;padding: 0;position: absolute;width: 1px;}#sk-container-id-3 div.sk-estimator {font-family: monospace;background-color: #f0f8ff;border: 1px dotted black;border-radius: 0.25em;box-sizing: border-box;margin-bottom: 0.5em;}#sk-container-id-3 div.sk-estimator:hover {background-color: #d4ebff;}#sk-container-id-3 div.sk-parallel-item::after {content: \"\";width: 100%;border-bottom: 1px solid gray;flex-grow: 1;}#sk-container-id-3 div.sk-label:hover label.sk-toggleable__label {background-color: #d4ebff;}#sk-container-id-3 div.sk-serial::before {content: \"\";position: absolute;border-left: 1px solid gray;box-sizing: border-box;top: 0;bottom: 0;left: 50%;z-index: 0;}#sk-container-id-3 div.sk-serial {display: flex;flex-direction: column;align-items: center;background-color: white;padding-right: 0.2em;padding-left: 0.2em;position: relative;}#sk-container-id-3 div.sk-item {position: relative;z-index: 1;}#sk-container-id-3 div.sk-parallel {display: flex;align-items: stretch;justify-content: center;background-color: white;position: relative;}#sk-container-id-3 div.sk-item::before, #sk-container-id-3 div.sk-parallel-item::before {content: \"\";position: absolute;border-left: 1px solid gray;box-sizing: border-box;top: 0;bottom: 0;left: 50%;z-index: -1;}#sk-container-id-3 div.sk-parallel-item {display: flex;flex-direction: column;z-index: 1;position: relative;background-color: white;}#sk-container-id-3 div.sk-parallel-item:first-child::after {align-self: flex-end;width: 50%;}#sk-container-id-3 div.sk-parallel-item:last-child::after {align-self: flex-start;width: 50%;}#sk-container-id-3 div.sk-parallel-item:only-child::after {width: 0;}#sk-container-id-3 div.sk-dashed-wrapped {border: 1px dashed gray;margin: 0 0.4em 0.5em 0.4em;box-sizing: border-box;padding-bottom: 0.4em;background-color: white;}#sk-container-id-3 div.sk-label label {font-family: monospace;font-weight: bold;display: inline-block;line-height: 1.2em;}#sk-container-id-3 div.sk-label-container {text-align: center;}#sk-container-id-3 div.sk-container {/* jupyter's `normalize.less` sets `[hidden] { display: none; }` but bootstrap.min.css set `[hidden] { display: none !important; }` so we also need the `!important` here to be able to override the default hidden behavior on the sphinx rendered scikit-learn.org. See: https://github.com/scikit-learn/scikit-learn/issues/21755 */display: inline-block !important;position: relative;}#sk-container-id-3 div.sk-text-repr-fallback {display: none;}</style><div id=\"sk-container-id-3\" class=\"sk-top-container\"><div class=\"sk-text-repr-fallback\"><pre>Pipeline(steps=[(&#x27;doc2vec&#x27;,\n",
              "                 Doc2VecTransformer(model=&lt;gensim.models.fasttext.FastTextKeyedVectors object at 0x7f3747789cc0&gt;)),\n",
              "                (&#x27;clf&#x27;, LogisticRegression(max_iter=1000000))])</pre><b>In a Jupyter environment, please rerun this cell to show the HTML representation or trust the notebook. <br />On GitHub, the HTML representation is unable to render, please try loading this page with nbviewer.org.</b></div><div class=\"sk-container\" hidden><div class=\"sk-item sk-dashed-wrapped\"><div class=\"sk-label-container\"><div class=\"sk-label sk-toggleable\"><input class=\"sk-toggleable__control sk-hidden--visually\" id=\"sk-estimator-id-7\" type=\"checkbox\" ><label for=\"sk-estimator-id-7\" class=\"sk-toggleable__label sk-toggleable__label-arrow\">Pipeline</label><div class=\"sk-toggleable__content\"><pre>Pipeline(steps=[(&#x27;doc2vec&#x27;,\n",
              "                 Doc2VecTransformer(model=&lt;gensim.models.fasttext.FastTextKeyedVectors object at 0x7f3747789cc0&gt;)),\n",
              "                (&#x27;clf&#x27;, LogisticRegression(max_iter=1000000))])</pre></div></div></div><div class=\"sk-serial\"><div class=\"sk-item\"><div class=\"sk-estimator sk-toggleable\"><input class=\"sk-toggleable__control sk-hidden--visually\" id=\"sk-estimator-id-8\" type=\"checkbox\" ><label for=\"sk-estimator-id-8\" class=\"sk-toggleable__label sk-toggleable__label-arrow\">Doc2VecTransformer</label><div class=\"sk-toggleable__content\"><pre>Doc2VecTransformer(model=&lt;gensim.models.fasttext.FastTextKeyedVectors object at 0x7f3747789cc0&gt;)</pre></div></div></div><div class=\"sk-item\"><div class=\"sk-estimator sk-toggleable\"><input class=\"sk-toggleable__control sk-hidden--visually\" id=\"sk-estimator-id-9\" type=\"checkbox\" ><label for=\"sk-estimator-id-9\" class=\"sk-toggleable__label sk-toggleable__label-arrow\">LogisticRegression</label><div class=\"sk-toggleable__content\"><pre>LogisticRegression(max_iter=1000000)</pre></div></div></div></div></div></div></div>"
            ]
          },
          "metadata": {},
          "execution_count": 66
        }
      ]
    },
    {
      "cell_type": "code",
      "source": [
        "y_pred = pipeline.predict(X_test)"
      ],
      "metadata": {
        "id": "F-ASIJCBXfc3"
      },
      "execution_count": null,
      "outputs": []
    },
    {
      "cell_type": "code",
      "source": [
        "conf_matrix = confusion_matrix(y_test, y_pred)"
      ],
      "metadata": {
        "id": "PsCiCuHKYNu0"
      },
      "execution_count": null,
      "outputs": []
    },
    {
      "cell_type": "code",
      "source": [
        "import seaborn as sns\n",
        "\n",
        "ax = plt.subplot()\n",
        "sns.heatmap(conf_matrix, annot=True, fmt='g', ax=ax, cmap=\"Blues\");\n",
        "\n",
        "# labels, title and ticks\n",
        "ax.set_xlabel('Predicted labels');ax.set_ylabel('True labels'); \n",
        "ax.set_title('Confusion Matrix FastText'); \n",
        "ax.xaxis.set_ticklabels(['-1', '1']); ax.yaxis.set_ticklabels(['-1', '1']);"
      ],
      "metadata": {
        "colab": {
          "base_uri": "https://localhost:8080/",
          "height": 472
        },
        "id": "_Qv-hXti38by",
        "outputId": "772e72b2-8f88-46e2-bf1c-b356d1c877e9"
      },
      "execution_count": null,
      "outputs": [
        {
          "output_type": "display_data",
          "data": {
            "text/plain": [
              "<Figure size 640x480 with 2 Axes>"
            ],
            "image/png": "[encoded data removed]"
          },
          "metadata": {}
        }
      ]
    },
    {
      "cell_type": "code",
      "source": [
        "print(classification_report(y_test, y_pred))"
      ],
      "metadata": {
        "colab": {
          "base_uri": "https://localhost:8080/"
        },
        "id": "-0lCUFjmXaJF",
        "outputId": "389debfe-545d-4a5d-ee47-47e04993b33e"
      },
      "execution_count": null,
      "outputs": [
        {
          "output_type": "stream",
          "name": "stdout",
          "text": [
            "              precision    recall  f1-score   support\n",
            "\n",
            "          -1       0.68      0.97      0.80       221\n",
            "           1       0.71      0.14      0.24       118\n",
            "\n",
            "    accuracy                           0.68       339\n",
            "   macro avg       0.69      0.56      0.52       339\n",
            "weighted avg       0.69      0.68      0.60       339\n",
            "\n"
          ]
        }
      ]
    },
    {
      "cell_type": "markdown",
      "source": [
        "**Resultados de la clasificación**\n",
        "\n",
        "Overall, both models do not achieve optimal results. This could be due to the corpus they were trained on not being sufficiently general and/or extensive enough for them to generate embeddings that capture the semantic/syntactic sense of words. Thus, when trying to classify words based on their polarity, which implies being able to grasp the general sense of the word, they do not perform well. It is worth noting that both models obtained decent results in identifying negative lexicons, reaching an f1 score of $0.80$ with FastText. The problem was that they also classified positive lexicons as negative. This could be because the corpus was heavily skewed towards the negative side, with little usage of words considered positive.\n",
        "\n",
        "One way to improve both models could be to use pre-trained word embeddings with a sufficient amount of data to produce general representations, as opposed to representations tied to the context from which they were obtained, as was the case in the previous scenario."
      ],
      "metadata": {
        "id": "LwXjpGgRoAIs"
      }
    },
    {
      "cell_type": "markdown",
      "metadata": {
        "id": "YW0aeK2KTNct"
      },
      "source": [
        "**Bonus**: Repit the exercise with larger pre-trained models"
      ]
    },
    {
      "cell_type": "code",
      "metadata": {
        "id": "MSc8p-T8TNcu",
        "colab": {
          "base_uri": "https://localhost:8080/"
        },
        "outputId": "7b946e2b-2d3f-4ac3-9da2-b25c7413dce2"
      },
      "source": [
        "import gensim.downloader as api\n",
        "\n",
        "# Pre-trained vectors trained on a part of the Google News dataset \n",
        "# (about 100 billion words). The model contains 300-dimensional vectors for \n",
        "# 3 million words and phrases. The phrases were obtained using a simple \n",
        "# data-driven approach described in 'Distributed Representations of Words and \n",
        "# Phrases and their Compositionality' \n",
        "\n",
        "model_w2v_wiki = api.load(\"word2vec-google-news-300\")"
      ],
      "execution_count": null,
      "outputs": [
        {
          "output_type": "stream",
          "name": "stdout",
          "text": [
            "[==================================================] 100.0% 1662.8/1662.8MB downloaded\n"
          ]
        }
      ]
    },
    {
      "cell_type": "code",
      "source": [
        "class Doc2VecTransformer2(BaseEstimator):\n",
        "    \"\"\" Transforma tweets a representaciones vectoriales usando algún modelo de Word Embeddings.\n",
        "    \"\"\"\n",
        "    \n",
        "    def __init__(self, model):\n",
        "        # extraemos los embeddings desde el objeto contenedor. ojo con esta parte.\n",
        "        self.model = model\n",
        "        \n",
        "    def fit(self, X, y=None):\n",
        "        return self\n",
        "\n",
        "    def transform(self, X, y=None):\n",
        "        \n",
        "        doc_embeddings = []\n",
        "        \n",
        "        for doc in X:\n",
        "            doc_embeddings.append(self.model[doc])\n",
        "        return np.array(doc_embeddings)"
      ],
      "metadata": {
        "id": "9vMZqUSPBb6d"
      },
      "execution_count": null,
      "outputs": []
    },
    {
      "cell_type": "code",
      "source": [
        "# not found words eliminatino\n",
        "notfound = 0\n",
        "df_afinn2 = df_afinn\n",
        "for word in df_afinn[\"word\"]:\n",
        "  try:\n",
        "    model_w2v_wiki.get_index(word)\n",
        "  except:\n",
        "    notfound +=1\n",
        "    df_afinn2 = df_afinn2[df_afinn2.word != word]\n",
        "\n",
        "print(\"Total words deleted: \")\n",
        "print(notfound)"
      ],
      "metadata": {
        "colab": {
          "base_uri": "https://localhost:8080/"
        },
        "id": "YXPDYaANc8Dl",
        "outputId": "4092a5f3-3d4a-4b51-8e9e-227eed8e3aea"
      },
      "execution_count": null,
      "outputs": [
        {
          "output_type": "stream",
          "name": "stdout",
          "text": [
            "Total de palabras eliminadas:\n",
            "158\n"
          ]
        }
      ]
    },
    {
      "cell_type": "code",
      "source": [
        "from sklearn.pipeline import Pipeline\n",
        "\n",
        "# clasificacion, misma logica que el fasttext creado\n",
        "X_train, X_test, y_train, y_test = train_test_split(df_afinn2[\"word\"], \n",
        "                                                    df_afinn2[\"Category\"], \n",
        "                                                    random_state=0, \n",
        "                                                    test_size=0.1, \n",
        "                                                    stratify=df_afinn2[\"Category\"])\n",
        "\n",
        "clf = LogisticRegression(max_iter=1000000)\n",
        "pipeline = Pipeline([('doc2vec', Doc2VecTransformer2(model_w2v_wiki)), ('clf', clf)])\n",
        "pipeline.fit(X_train, y_train)\n"
      ],
      "metadata": {
        "colab": {
          "base_uri": "https://localhost:8080/",
          "height": 126
        },
        "id": "gHd7mavF7oVu",
        "outputId": "1389f980-cba2-4711-ec04-9f3baad71e77"
      },
      "execution_count": null,
      "outputs": [
        {
          "output_type": "execute_result",
          "data": {
            "text/plain": [
              "Pipeline(steps=[('doc2vec',\n",
              "                 Doc2VecTransformer2(model=<gensim.models.keyedvectors.KeyedVectors object at 0x7f379a2365c0>)),\n",
              "                ('clf', LogisticRegression(max_iter=1000000))])"
            ],
            "text/html": [
              "<style>#sk-container-id-4 {color: black;background-color: white;}#sk-container-id-4 pre{padding: 0;}#sk-container-id-4 div.sk-toggleable {background-color: white;}#sk-container-id-4 label.sk-toggleable__label {cursor: pointer;display: block;width: 100%;margin-bottom: 0;padding: 0.3em;box-sizing: border-box;text-align: center;}#sk-container-id-4 label.sk-toggleable__label-arrow:before {content: \"▸\";float: left;margin-right: 0.25em;color: #696969;}#sk-container-id-4 label.sk-toggleable__label-arrow:hover:before {color: black;}#sk-container-id-4 div.sk-estimator:hover label.sk-toggleable__label-arrow:before {color: black;}#sk-container-id-4 div.sk-toggleable__content {max-height: 0;max-width: 0;overflow: hidden;text-align: left;background-color: #f0f8ff;}#sk-container-id-4 div.sk-toggleable__content pre {margin: 0.2em;color: black;border-radius: 0.25em;background-color: #f0f8ff;}#sk-container-id-4 input.sk-toggleable__control:checked~div.sk-toggleable__content {max-height: 200px;max-width: 100%;overflow: auto;}#sk-container-id-4 input.sk-toggleable__control:checked~label.sk-toggleable__label-arrow:before {content: \"▾\";}#sk-container-id-4 div.sk-estimator input.sk-toggleable__control:checked~label.sk-toggleable__label {background-color: #d4ebff;}#sk-container-id-4 div.sk-label input.sk-toggleable__control:checked~label.sk-toggleable__label {background-color: #d4ebff;}#sk-container-id-4 input.sk-hidden--visually {border: 0;clip: rect(1px 1px 1px 1px);clip: rect(1px, 1px, 1px, 1px);height: 1px;margin: -1px;overflow: hidden;padding: 0;position: absolute;width: 1px;}#sk-container-id-4 div.sk-estimator {font-family: monospace;background-color: #f0f8ff;border: 1px dotted black;border-radius: 0.25em;box-sizing: border-box;margin-bottom: 0.5em;}#sk-container-id-4 div.sk-estimator:hover {background-color: #d4ebff;}#sk-container-id-4 div.sk-parallel-item::after {content: \"\";width: 100%;border-bottom: 1px solid gray;flex-grow: 1;}#sk-container-id-4 div.sk-label:hover label.sk-toggleable__label {background-color: #d4ebff;}#sk-container-id-4 div.sk-serial::before {content: \"\";position: absolute;border-left: 1px solid gray;box-sizing: border-box;top: 0;bottom: 0;left: 50%;z-index: 0;}#sk-container-id-4 div.sk-serial {display: flex;flex-direction: column;align-items: center;background-color: white;padding-right: 0.2em;padding-left: 0.2em;position: relative;}#sk-container-id-4 div.sk-item {position: relative;z-index: 1;}#sk-container-id-4 div.sk-parallel {display: flex;align-items: stretch;justify-content: center;background-color: white;position: relative;}#sk-container-id-4 div.sk-item::before, #sk-container-id-4 div.sk-parallel-item::before {content: \"\";position: absolute;border-left: 1px solid gray;box-sizing: border-box;top: 0;bottom: 0;left: 50%;z-index: -1;}#sk-container-id-4 div.sk-parallel-item {display: flex;flex-direction: column;z-index: 1;position: relative;background-color: white;}#sk-container-id-4 div.sk-parallel-item:first-child::after {align-self: flex-end;width: 50%;}#sk-container-id-4 div.sk-parallel-item:last-child::after {align-self: flex-start;width: 50%;}#sk-container-id-4 div.sk-parallel-item:only-child::after {width: 0;}#sk-container-id-4 div.sk-dashed-wrapped {border: 1px dashed gray;margin: 0 0.4em 0.5em 0.4em;box-sizing: border-box;padding-bottom: 0.4em;background-color: white;}#sk-container-id-4 div.sk-label label {font-family: monospace;font-weight: bold;display: inline-block;line-height: 1.2em;}#sk-container-id-4 div.sk-label-container {text-align: center;}#sk-container-id-4 div.sk-container {/* jupyter's `normalize.less` sets `[hidden] { display: none; }` but bootstrap.min.css set `[hidden] { display: none !important; }` so we also need the `!important` here to be able to override the default hidden behavior on the sphinx rendered scikit-learn.org. See: https://github.com/scikit-learn/scikit-learn/issues/21755 */display: inline-block !important;position: relative;}#sk-container-id-4 div.sk-text-repr-fallback {display: none;}</style><div id=\"sk-container-id-4\" class=\"sk-top-container\"><div class=\"sk-text-repr-fallback\"><pre>Pipeline(steps=[(&#x27;doc2vec&#x27;,\n",
              "                 Doc2VecTransformer2(model=&lt;gensim.models.keyedvectors.KeyedVectors object at 0x7f379a2365c0&gt;)),\n",
              "                (&#x27;clf&#x27;, LogisticRegression(max_iter=1000000))])</pre><b>In a Jupyter environment, please rerun this cell to show the HTML representation or trust the notebook. <br />On GitHub, the HTML representation is unable to render, please try loading this page with nbviewer.org.</b></div><div class=\"sk-container\" hidden><div class=\"sk-item sk-dashed-wrapped\"><div class=\"sk-label-container\"><div class=\"sk-label sk-toggleable\"><input class=\"sk-toggleable__control sk-hidden--visually\" id=\"sk-estimator-id-10\" type=\"checkbox\" ><label for=\"sk-estimator-id-10\" class=\"sk-toggleable__label sk-toggleable__label-arrow\">Pipeline</label><div class=\"sk-toggleable__content\"><pre>Pipeline(steps=[(&#x27;doc2vec&#x27;,\n",
              "                 Doc2VecTransformer2(model=&lt;gensim.models.keyedvectors.KeyedVectors object at 0x7f379a2365c0&gt;)),\n",
              "                (&#x27;clf&#x27;, LogisticRegression(max_iter=1000000))])</pre></div></div></div><div class=\"sk-serial\"><div class=\"sk-item\"><div class=\"sk-estimator sk-toggleable\"><input class=\"sk-toggleable__control sk-hidden--visually\" id=\"sk-estimator-id-11\" type=\"checkbox\" ><label for=\"sk-estimator-id-11\" class=\"sk-toggleable__label sk-toggleable__label-arrow\">Doc2VecTransformer2</label><div class=\"sk-toggleable__content\"><pre>Doc2VecTransformer2(model=&lt;gensim.models.keyedvectors.KeyedVectors object at 0x7f379a2365c0&gt;)</pre></div></div></div><div class=\"sk-item\"><div class=\"sk-estimator sk-toggleable\"><input class=\"sk-toggleable__control sk-hidden--visually\" id=\"sk-estimator-id-12\" type=\"checkbox\" ><label for=\"sk-estimator-id-12\" class=\"sk-toggleable__label sk-toggleable__label-arrow\">LogisticRegression</label><div class=\"sk-toggleable__content\"><pre>LogisticRegression(max_iter=1000000)</pre></div></div></div></div></div></div></div>"
            ]
          },
          "metadata": {},
          "execution_count": 71
        }
      ]
    },
    {
      "cell_type": "code",
      "source": [
        "import matplotlib.pyplot as plt\n",
        "\n",
        "y_pred = pipeline.predict(X_test)\n",
        "conf_matrix = confusion_matrix(y_test, y_pred)\n",
        "\n",
        "# visualizacion matriz de confusion\n",
        "ax = plt.subplot()\n",
        "sns.heatmap(conf_matrix, annot=True, fmt='g', ax=ax, cmap=\"Blues\");\n",
        "\n",
        "# labels, title and ticks\n",
        "ax.set_xlabel('Predicted labels');ax.set_ylabel('True labels'); \n",
        "ax.set_title('Confusion Matrix Word2Vec-Google Pretrained'); \n",
        "ax.xaxis.set_ticklabels(['-1', '1']); ax.yaxis.set_ticklabels(['-1', '1']);"
      ],
      "metadata": {
        "colab": {
          "base_uri": "https://localhost:8080/",
          "height": 472
        },
        "id": "LmMdHTw58Jdr",
        "outputId": "a96da7db-d582-4b63-f457-eaef7f12fb07"
      },
      "execution_count": null,
      "outputs": [
        {
          "output_type": "display_data",
          "data": {
            "text/plain": [
              "<Figure size 640x480 with 2 Axes>"
            ],
            "image/png": "[encoded data removed]"
          },
          "metadata": {}
        }
      ]
    },
    {
      "cell_type": "code",
      "source": [
        "print(classification_report(y_test, y_pred))"
      ],
      "metadata": {
        "colab": {
          "base_uri": "https://localhost:8080/"
        },
        "id": "FZpy0EF-8adv",
        "outputId": "17576468-be74-4408-b17f-9fe45a44a8bc"
      },
      "execution_count": null,
      "outputs": [
        {
          "output_type": "stream",
          "name": "stdout",
          "text": [
            "              precision    recall  f1-score   support\n",
            "\n",
            "          -1       0.97      0.98      0.97       211\n",
            "           1       0.95      0.95      0.95       112\n",
            "\n",
            "    accuracy                           0.97       323\n",
            "   macro avg       0.96      0.96      0.96       323\n",
            "weighted avg       0.97      0.97      0.97       323\n",
            "\n"
          ]
        }
      ]
    }
  ]
}